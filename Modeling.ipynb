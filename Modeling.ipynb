{
 "cells": [
  {
   "cell_type": "code",
   "execution_count": 29,
   "id": "a838f856-15f1-428a-9d30-a011203e8714",
   "metadata": {},
   "outputs": [],
   "source": [
    "import pandas as pd\n",
    "import matplotlib.pyplot as plt\n",
    "import numpy as np\n",
    "import seaborn as sns\n",
    "from sklearn.model_selection import train_test_split\n",
    "import statsmodels.api as sm"
   ]
  },
  {
   "cell_type": "code",
   "execution_count": 2,
   "id": "eb093582-133d-4c70-bb6a-8d407649b901",
   "metadata": {},
   "outputs": [],
   "source": [
    "df = pd.read_csv('EdaDf.csv')"
   ]
  },
  {
   "cell_type": "code",
   "execution_count": 3,
   "id": "a420d8a9-a147-4821-89e3-31bf2176c1be",
   "metadata": {},
   "outputs": [
    {
     "data": {
      "text/html": [
       "<div>\n",
       "<style scoped>\n",
       "    .dataframe tbody tr th:only-of-type {\n",
       "        vertical-align: middle;\n",
       "    }\n",
       "\n",
       "    .dataframe tbody tr th {\n",
       "        vertical-align: top;\n",
       "    }\n",
       "\n",
       "    .dataframe thead th {\n",
       "        text-align: right;\n",
       "    }\n",
       "</style>\n",
       "<table border=\"1\" class=\"dataframe\">\n",
       "  <thead>\n",
       "    <tr style=\"text-align: right;\">\n",
       "      <th></th>\n",
       "      <th>Unnamed: 0</th>\n",
       "      <th>CompanyName</th>\n",
       "      <th>Location</th>\n",
       "      <th>Job_Title</th>\n",
       "      <th>SalaryEstimate</th>\n",
       "      <th>Job_Desc</th>\n",
       "      <th>NumberOfEmployees</th>\n",
       "      <th>FoundingYear</th>\n",
       "      <th>CompanyType</th>\n",
       "      <th>IndustryType</th>\n",
       "      <th>SectorType</th>\n",
       "      <th>RevenueType</th>\n",
       "      <th>Rating</th>\n",
       "      <th>minSalary_new</th>\n",
       "      <th>maxSalary_new</th>\n",
       "      <th>Python</th>\n",
       "      <th>Pandas</th>\n",
       "      <th>Excel</th>\n",
       "      <th>Job_Desc_len</th>\n",
       "      <th>AverageSalary</th>\n",
       "    </tr>\n",
       "  </thead>\n",
       "  <tbody>\n",
       "    <tr>\n",
       "      <th>0</th>\n",
       "      <td>0</td>\n",
       "      <td>NXP Semiconductors</td>\n",
       "      <td>Austin, TX</td>\n",
       "      <td>Data Scientist</td>\n",
       "      <td>NXP Semiconductors4.1 ★\\nEntry Level Data Scie...</td>\n",
       "      <td>Our business runs on Data, and having an accur...</td>\n",
       "      <td>10000+ Employees</td>\n",
       "      <td>2006</td>\n",
       "      <td>Company - Public</td>\n",
       "      <td>Electronics Manufacturing</td>\n",
       "      <td>Manufacturing</td>\n",
       "      <td>$5 to $10 billion (USD)</td>\n",
       "      <td>4.1</td>\n",
       "      <td>74</td>\n",
       "      <td>125</td>\n",
       "      <td>0</td>\n",
       "      <td>0</td>\n",
       "      <td>0</td>\n",
       "      <td>794</td>\n",
       "      <td>99.5</td>\n",
       "    </tr>\n",
       "    <tr>\n",
       "      <th>1</th>\n",
       "      <td>1</td>\n",
       "      <td>Matrix New World Engineering</td>\n",
       "      <td>Remote</td>\n",
       "      <td>Data Scientist</td>\n",
       "      <td>Matrix New World Engineering4 ★\\nData Scientis...</td>\n",
       "      <td>Are you passionate about finding insights from...</td>\n",
       "      <td>51 to 200 Employees</td>\n",
       "      <td>1990</td>\n",
       "      <td>Company - Private</td>\n",
       "      <td>Architectural &amp; Engineering Services</td>\n",
       "      <td>Construction, Repair &amp; Maintenance Services</td>\n",
       "      <td>$25 to $50 million (USD)</td>\n",
       "      <td>4.0</td>\n",
       "      <td>90</td>\n",
       "      <td>120</td>\n",
       "      <td>0</td>\n",
       "      <td>0</td>\n",
       "      <td>1</td>\n",
       "      <td>1216</td>\n",
       "      <td>105.0</td>\n",
       "    </tr>\n",
       "    <tr>\n",
       "      <th>2</th>\n",
       "      <td>2</td>\n",
       "      <td>Context Labs</td>\n",
       "      <td>Cambridge, MA</td>\n",
       "      <td>Data Scientist</td>\n",
       "      <td>Context Labs\\nData Scientist\\nCambridge, MA\\nU...</td>\n",
       "      <td>Context Labs is seeking a Data Scientist to su...</td>\n",
       "      <td>Unknown</td>\n",
       "      <td>Unknown</td>\n",
       "      <td>Software Development</td>\n",
       "      <td>Information Technology</td>\n",
       "      <td>Unknown / Non-Applicable</td>\n",
       "      <td>Unknown</td>\n",
       "      <td>-2.0</td>\n",
       "      <td>105</td>\n",
       "      <td>146</td>\n",
       "      <td>0</td>\n",
       "      <td>0</td>\n",
       "      <td>0</td>\n",
       "      <td>814</td>\n",
       "      <td>125.5</td>\n",
       "    </tr>\n",
       "    <tr>\n",
       "      <th>3</th>\n",
       "      <td>3</td>\n",
       "      <td>Ryden Global LLC</td>\n",
       "      <td>Remote</td>\n",
       "      <td>Data Scientist</td>\n",
       "      <td>Ryden Global LLC\\nData Scientist\\nRemote\\nUS$6...</td>\n",
       "      <td>We are looking for a data scientist that will ...</td>\n",
       "      <td>Unknown</td>\n",
       "      <td>Unknown</td>\n",
       "      <td>Unknown</td>\n",
       "      <td>Unknown</td>\n",
       "      <td>Unknown</td>\n",
       "      <td>Unknown</td>\n",
       "      <td>-2.0</td>\n",
       "      <td>126</td>\n",
       "      <td>147</td>\n",
       "      <td>0</td>\n",
       "      <td>0</td>\n",
       "      <td>0</td>\n",
       "      <td>484</td>\n",
       "      <td>136.5</td>\n",
       "    </tr>\n",
       "    <tr>\n",
       "      <th>4</th>\n",
       "      <td>4</td>\n",
       "      <td>Buchanan And Edwards Group</td>\n",
       "      <td>McLean, VA</td>\n",
       "      <td>Data Scientist</td>\n",
       "      <td>Buchanan And Edwards Group4 ★\\nData Scientist\\...</td>\n",
       "      <td>The Sponsor provides data-driven business anal...</td>\n",
       "      <td>201 to 500 Employees</td>\n",
       "      <td>1998</td>\n",
       "      <td>Company - Private</td>\n",
       "      <td>Information Technology Support Services</td>\n",
       "      <td>Information Technology</td>\n",
       "      <td>$25 to $50 million (USD)</td>\n",
       "      <td>4.0</td>\n",
       "      <td>83</td>\n",
       "      <td>114</td>\n",
       "      <td>1</td>\n",
       "      <td>0</td>\n",
       "      <td>0</td>\n",
       "      <td>778</td>\n",
       "      <td>98.5</td>\n",
       "    </tr>\n",
       "  </tbody>\n",
       "</table>\n",
       "</div>"
      ],
      "text/plain": [
       "   Unnamed: 0                   CompanyName       Location       Job_Title  \\\n",
       "0           0            NXP Semiconductors     Austin, TX  Data Scientist   \n",
       "1           1  Matrix New World Engineering         Remote  Data Scientist   \n",
       "2           2                  Context Labs  Cambridge, MA  Data Scientist   \n",
       "3           3              Ryden Global LLC         Remote  Data Scientist   \n",
       "4           4    Buchanan And Edwards Group     McLean, VA  Data Scientist   \n",
       "\n",
       "                                      SalaryEstimate  \\\n",
       "0  NXP Semiconductors4.1 ★\\nEntry Level Data Scie...   \n",
       "1  Matrix New World Engineering4 ★\\nData Scientis...   \n",
       "2  Context Labs\\nData Scientist\\nCambridge, MA\\nU...   \n",
       "3  Ryden Global LLC\\nData Scientist\\nRemote\\nUS$6...   \n",
       "4  Buchanan And Edwards Group4 ★\\nData Scientist\\...   \n",
       "\n",
       "                                            Job_Desc     NumberOfEmployees  \\\n",
       "0  Our business runs on Data, and having an accur...      10000+ Employees   \n",
       "1  Are you passionate about finding insights from...   51 to 200 Employees   \n",
       "2  Context Labs is seeking a Data Scientist to su...               Unknown   \n",
       "3  We are looking for a data scientist that will ...               Unknown   \n",
       "4  The Sponsor provides data-driven business anal...  201 to 500 Employees   \n",
       "\n",
       "  FoundingYear           CompanyType                             IndustryType  \\\n",
       "0         2006      Company - Public                Electronics Manufacturing   \n",
       "1         1990     Company - Private     Architectural & Engineering Services   \n",
       "2      Unknown  Software Development                   Information Technology   \n",
       "3      Unknown               Unknown                                  Unknown   \n",
       "4         1998     Company - Private  Information Technology Support Services   \n",
       "\n",
       "                                    SectorType               RevenueType  \\\n",
       "0                                Manufacturing   $5 to $10 billion (USD)   \n",
       "1  Construction, Repair & Maintenance Services  $25 to $50 million (USD)   \n",
       "2                     Unknown / Non-Applicable                   Unknown   \n",
       "3                                      Unknown                   Unknown   \n",
       "4                       Information Technology  $25 to $50 million (USD)   \n",
       "\n",
       "   Rating  minSalary_new  maxSalary_new  Python  Pandas  Excel  Job_Desc_len  \\\n",
       "0     4.1             74            125       0       0      0           794   \n",
       "1     4.0             90            120       0       0      1          1216   \n",
       "2    -2.0            105            146       0       0      0           814   \n",
       "3    -2.0            126            147       0       0      0           484   \n",
       "4     4.0             83            114       1       0      0           778   \n",
       "\n",
       "   AverageSalary  \n",
       "0           99.5  \n",
       "1          105.0  \n",
       "2          125.5  \n",
       "3          136.5  \n",
       "4           98.5  "
      ]
     },
     "execution_count": 3,
     "metadata": {},
     "output_type": "execute_result"
    }
   ],
   "source": [
    "df.head()"
   ]
  },
  {
   "cell_type": "code",
   "execution_count": 4,
   "id": "f18b5b26-a8d6-4a2a-b272-8a4ef8e6d559",
   "metadata": {},
   "outputs": [],
   "source": [
    "df.drop(columns=df.columns[0], axis=1, inplace=True)"
   ]
  },
  {
   "cell_type": "code",
   "execution_count": 6,
   "id": "256023d8-b3ab-46b8-8819-c4b3dd9436dd",
   "metadata": {},
   "outputs": [
    {
     "data": {
      "text/html": [
       "<div>\n",
       "<style scoped>\n",
       "    .dataframe tbody tr th:only-of-type {\n",
       "        vertical-align: middle;\n",
       "    }\n",
       "\n",
       "    .dataframe tbody tr th {\n",
       "        vertical-align: top;\n",
       "    }\n",
       "\n",
       "    .dataframe thead th {\n",
       "        text-align: right;\n",
       "    }\n",
       "</style>\n",
       "<table border=\"1\" class=\"dataframe\">\n",
       "  <thead>\n",
       "    <tr style=\"text-align: right;\">\n",
       "      <th></th>\n",
       "      <th>CompanyName</th>\n",
       "      <th>Location</th>\n",
       "      <th>Job_Title</th>\n",
       "      <th>SalaryEstimate</th>\n",
       "      <th>Job_Desc</th>\n",
       "      <th>NumberOfEmployees</th>\n",
       "      <th>FoundingYear</th>\n",
       "      <th>CompanyType</th>\n",
       "      <th>IndustryType</th>\n",
       "      <th>SectorType</th>\n",
       "      <th>RevenueType</th>\n",
       "      <th>Rating</th>\n",
       "      <th>minSalary_new</th>\n",
       "      <th>maxSalary_new</th>\n",
       "      <th>Python</th>\n",
       "      <th>Pandas</th>\n",
       "      <th>Excel</th>\n",
       "      <th>Job_Desc_len</th>\n",
       "      <th>AverageSalary</th>\n",
       "    </tr>\n",
       "  </thead>\n",
       "  <tbody>\n",
       "    <tr>\n",
       "      <th>0</th>\n",
       "      <td>NXP Semiconductors</td>\n",
       "      <td>Austin, TX</td>\n",
       "      <td>Data Scientist</td>\n",
       "      <td>NXP Semiconductors4.1 ★\\nEntry Level Data Scie...</td>\n",
       "      <td>Our business runs on Data, and having an accur...</td>\n",
       "      <td>10000+ Employees</td>\n",
       "      <td>2006</td>\n",
       "      <td>Company - Public</td>\n",
       "      <td>Electronics Manufacturing</td>\n",
       "      <td>Manufacturing</td>\n",
       "      <td>$5 to $10 billion (USD)</td>\n",
       "      <td>4.1</td>\n",
       "      <td>74</td>\n",
       "      <td>125</td>\n",
       "      <td>0</td>\n",
       "      <td>0</td>\n",
       "      <td>0</td>\n",
       "      <td>794</td>\n",
       "      <td>99.5</td>\n",
       "    </tr>\n",
       "  </tbody>\n",
       "</table>\n",
       "</div>"
      ],
      "text/plain": [
       "          CompanyName    Location       Job_Title  \\\n",
       "0  NXP Semiconductors  Austin, TX  Data Scientist   \n",
       "\n",
       "                                      SalaryEstimate  \\\n",
       "0  NXP Semiconductors4.1 ★\\nEntry Level Data Scie...   \n",
       "\n",
       "                                            Job_Desc NumberOfEmployees  \\\n",
       "0  Our business runs on Data, and having an accur...  10000+ Employees   \n",
       "\n",
       "  FoundingYear       CompanyType               IndustryType     SectorType  \\\n",
       "0         2006  Company - Public  Electronics Manufacturing  Manufacturing   \n",
       "\n",
       "               RevenueType  Rating  minSalary_new  maxSalary_new  Python  \\\n",
       "0  $5 to $10 billion (USD)     4.1             74            125       0   \n",
       "\n",
       "   Pandas  Excel  Job_Desc_len  AverageSalary  \n",
       "0       0      0           794           99.5  "
      ]
     },
     "execution_count": 6,
     "metadata": {},
     "output_type": "execute_result"
    }
   ],
   "source": [
    "df.head(1)"
   ]
  },
  {
   "cell_type": "code",
   "execution_count": 53,
   "id": "82711ccf-9108-4c20-a607-871f0ec94ea2",
   "metadata": {},
   "outputs": [],
   "source": [
    "df_train = df[['CompanyName','Location','Job_Title', 'NumberOfEmployees', 'FoundingYear', 'CompanyType', 'IndustryType', 'SectorType', 'RevenueType', 'Rating', 'Pandas', 'Python','Excel', 'Job_Desc_len']]"
   ]
  },
  {
   "cell_type": "code",
   "execution_count": 54,
   "id": "472360f0-7422-435c-8648-c72dbc466a5e",
   "metadata": {},
   "outputs": [
    {
     "data": {
      "text/html": [
       "<div>\n",
       "<style scoped>\n",
       "    .dataframe tbody tr th:only-of-type {\n",
       "        vertical-align: middle;\n",
       "    }\n",
       "\n",
       "    .dataframe tbody tr th {\n",
       "        vertical-align: top;\n",
       "    }\n",
       "\n",
       "    .dataframe thead th {\n",
       "        text-align: right;\n",
       "    }\n",
       "</style>\n",
       "<table border=\"1\" class=\"dataframe\">\n",
       "  <thead>\n",
       "    <tr style=\"text-align: right;\">\n",
       "      <th></th>\n",
       "      <th>CompanyName</th>\n",
       "      <th>Location</th>\n",
       "      <th>Job_Title</th>\n",
       "      <th>NumberOfEmployees</th>\n",
       "      <th>FoundingYear</th>\n",
       "      <th>CompanyType</th>\n",
       "      <th>IndustryType</th>\n",
       "      <th>SectorType</th>\n",
       "      <th>RevenueType</th>\n",
       "      <th>Rating</th>\n",
       "      <th>Pandas</th>\n",
       "      <th>Python</th>\n",
       "      <th>Excel</th>\n",
       "      <th>Job_Desc_len</th>\n",
       "    </tr>\n",
       "  </thead>\n",
       "  <tbody>\n",
       "    <tr>\n",
       "      <th>0</th>\n",
       "      <td>NXP Semiconductors</td>\n",
       "      <td>Austin, TX</td>\n",
       "      <td>Data Scientist</td>\n",
       "      <td>10000+ Employees</td>\n",
       "      <td>2006</td>\n",
       "      <td>Company - Public</td>\n",
       "      <td>Electronics Manufacturing</td>\n",
       "      <td>Manufacturing</td>\n",
       "      <td>$5 to $10 billion (USD)</td>\n",
       "      <td>4.1</td>\n",
       "      <td>0</td>\n",
       "      <td>0</td>\n",
       "      <td>0</td>\n",
       "      <td>794</td>\n",
       "    </tr>\n",
       "    <tr>\n",
       "      <th>1</th>\n",
       "      <td>Matrix New World Engineering</td>\n",
       "      <td>Remote</td>\n",
       "      <td>Data Scientist</td>\n",
       "      <td>51 to 200 Employees</td>\n",
       "      <td>1990</td>\n",
       "      <td>Company - Private</td>\n",
       "      <td>Architectural &amp; Engineering Services</td>\n",
       "      <td>Construction, Repair &amp; Maintenance Services</td>\n",
       "      <td>$25 to $50 million (USD)</td>\n",
       "      <td>4.0</td>\n",
       "      <td>0</td>\n",
       "      <td>0</td>\n",
       "      <td>1</td>\n",
       "      <td>1216</td>\n",
       "    </tr>\n",
       "    <tr>\n",
       "      <th>2</th>\n",
       "      <td>Context Labs</td>\n",
       "      <td>Cambridge, MA</td>\n",
       "      <td>Data Scientist</td>\n",
       "      <td>Unknown</td>\n",
       "      <td>Unknown</td>\n",
       "      <td>Software Development</td>\n",
       "      <td>Information Technology</td>\n",
       "      <td>Unknown / Non-Applicable</td>\n",
       "      <td>Unknown</td>\n",
       "      <td>-2.0</td>\n",
       "      <td>0</td>\n",
       "      <td>0</td>\n",
       "      <td>0</td>\n",
       "      <td>814</td>\n",
       "    </tr>\n",
       "    <tr>\n",
       "      <th>3</th>\n",
       "      <td>Ryden Global LLC</td>\n",
       "      <td>Remote</td>\n",
       "      <td>Data Scientist</td>\n",
       "      <td>Unknown</td>\n",
       "      <td>Unknown</td>\n",
       "      <td>Unknown</td>\n",
       "      <td>Unknown</td>\n",
       "      <td>Unknown</td>\n",
       "      <td>Unknown</td>\n",
       "      <td>-2.0</td>\n",
       "      <td>0</td>\n",
       "      <td>0</td>\n",
       "      <td>0</td>\n",
       "      <td>484</td>\n",
       "    </tr>\n",
       "    <tr>\n",
       "      <th>4</th>\n",
       "      <td>Buchanan And Edwards Group</td>\n",
       "      <td>McLean, VA</td>\n",
       "      <td>Data Scientist</td>\n",
       "      <td>201 to 500 Employees</td>\n",
       "      <td>1998</td>\n",
       "      <td>Company - Private</td>\n",
       "      <td>Information Technology Support Services</td>\n",
       "      <td>Information Technology</td>\n",
       "      <td>$25 to $50 million (USD)</td>\n",
       "      <td>4.0</td>\n",
       "      <td>0</td>\n",
       "      <td>1</td>\n",
       "      <td>0</td>\n",
       "      <td>778</td>\n",
       "    </tr>\n",
       "  </tbody>\n",
       "</table>\n",
       "</div>"
      ],
      "text/plain": [
       "                    CompanyName       Location       Job_Title  \\\n",
       "0            NXP Semiconductors     Austin, TX  Data Scientist   \n",
       "1  Matrix New World Engineering         Remote  Data Scientist   \n",
       "2                  Context Labs  Cambridge, MA  Data Scientist   \n",
       "3              Ryden Global LLC         Remote  Data Scientist   \n",
       "4    Buchanan And Edwards Group     McLean, VA  Data Scientist   \n",
       "\n",
       "      NumberOfEmployees FoundingYear           CompanyType  \\\n",
       "0      10000+ Employees         2006      Company - Public   \n",
       "1   51 to 200 Employees         1990     Company - Private   \n",
       "2               Unknown      Unknown  Software Development   \n",
       "3               Unknown      Unknown               Unknown   \n",
       "4  201 to 500 Employees         1998     Company - Private   \n",
       "\n",
       "                              IndustryType  \\\n",
       "0                Electronics Manufacturing   \n",
       "1     Architectural & Engineering Services   \n",
       "2                   Information Technology   \n",
       "3                                  Unknown   \n",
       "4  Information Technology Support Services   \n",
       "\n",
       "                                    SectorType               RevenueType  \\\n",
       "0                                Manufacturing   $5 to $10 billion (USD)   \n",
       "1  Construction, Repair & Maintenance Services  $25 to $50 million (USD)   \n",
       "2                     Unknown / Non-Applicable                   Unknown   \n",
       "3                                      Unknown                   Unknown   \n",
       "4                       Information Technology  $25 to $50 million (USD)   \n",
       "\n",
       "   Rating  Pandas  Python  Excel  Job_Desc_len  \n",
       "0     4.1       0       0      0           794  \n",
       "1     4.0       0       0      1          1216  \n",
       "2    -2.0       0       0      0           814  \n",
       "3    -2.0       0       0      0           484  \n",
       "4     4.0       0       1      0           778  "
      ]
     },
     "execution_count": 54,
     "metadata": {},
     "output_type": "execute_result"
    }
   ],
   "source": [
    "df_train.head()"
   ]
  },
  {
   "cell_type": "code",
   "execution_count": 55,
   "id": "0fd7e3ed-174c-4410-ab72-3f1a553e4b6a",
   "metadata": {},
   "outputs": [
    {
     "data": {
      "text/plain": [
       "FoundingYear\n",
       "Unknown    238\n",
       "2015       180\n",
       "2013        60\n",
       "2005        60\n",
       "1990        30\n",
       "1998        30\n",
       "1999        30\n",
       "1926        30\n",
       "2006         1\n",
       "Name: count, dtype: int64"
      ]
     },
     "execution_count": 55,
     "metadata": {},
     "output_type": "execute_result"
    }
   ],
   "source": [
    "df.FoundingYear.value_counts()"
   ]
  },
  {
   "cell_type": "code",
   "execution_count": 97,
   "id": "fe9c3326-a24d-42ea-bcd2-b280733458d2",
   "metadata": {},
   "outputs": [],
   "source": [
    "df_test = df[['AverageSalary']]"
   ]
  },
  {
   "cell_type": "code",
   "execution_count": 57,
   "id": "9760add7-f585-4714-a75b-4c73c6859c73",
   "metadata": {},
   "outputs": [],
   "source": [
    "#df_test\n",
    "#X_train, X_test, y_train, y_test = train_test_split(df_train, df_test, test_size=0.33, random_state=42)"
   ]
  },
  {
   "cell_type": "code",
   "execution_count": 58,
   "id": "f1b8ccdf-bb2e-46f6-b213-087e942ba6ab",
   "metadata": {},
   "outputs": [],
   "source": [
    "df_train_d = pd.get_dummies(df_train)"
   ]
  },
  {
   "cell_type": "code",
   "execution_count": 59,
   "id": "e792a882-259a-4471-b3e0-8156e8939691",
   "metadata": {},
   "outputs": [
    {
     "data": {
      "text/plain": [
       "(659, 14)"
      ]
     },
     "execution_count": 59,
     "metadata": {},
     "output_type": "execute_result"
    }
   ],
   "source": [
    "df_train.shape"
   ]
  },
  {
   "cell_type": "code",
   "execution_count": 60,
   "id": "a1015dd6-0346-48b9-8edf-988ffbcf7fbb",
   "metadata": {},
   "outputs": [
    {
     "data": {
      "text/plain": [
       "(659, 80)"
      ]
     },
     "execution_count": 60,
     "metadata": {},
     "output_type": "execute_result"
    }
   ],
   "source": [
    "df_train_d.shape"
   ]
  },
  {
   "cell_type": "code",
   "execution_count": 61,
   "id": "5df0c7c3-9379-4c03-9cbf-1b4900395308",
   "metadata": {},
   "outputs": [
    {
     "data": {
      "text/html": [
       "<div>\n",
       "<style scoped>\n",
       "    .dataframe tbody tr th:only-of-type {\n",
       "        vertical-align: middle;\n",
       "    }\n",
       "\n",
       "    .dataframe tbody tr th {\n",
       "        vertical-align: top;\n",
       "    }\n",
       "\n",
       "    .dataframe thead th {\n",
       "        text-align: right;\n",
       "    }\n",
       "</style>\n",
       "<table border=\"1\" class=\"dataframe\">\n",
       "  <thead>\n",
       "    <tr style=\"text-align: right;\">\n",
       "      <th></th>\n",
       "      <th>Rating</th>\n",
       "      <th>Pandas</th>\n",
       "      <th>Python</th>\n",
       "      <th>Excel</th>\n",
       "      <th>Job_Desc_len</th>\n",
       "      <th>CompanyName_Brainwave360</th>\n",
       "      <th>CompanyName_Buchanan And Edwards Group</th>\n",
       "      <th>CompanyName_Context Labs</th>\n",
       "      <th>CompanyName_FAST GROWING TREES LLC</th>\n",
       "      <th>CompanyName_Lendistry</th>\n",
       "      <th>...</th>\n",
       "      <th>SectorType_Manufacturing</th>\n",
       "      <th>SectorType_Media &amp; Communication</th>\n",
       "      <th>SectorType_Retail &amp; Wholesale</th>\n",
       "      <th>SectorType_Unknown</th>\n",
       "      <th>SectorType_Unknown / Non-Applicable</th>\n",
       "      <th>RevenueType_$1 to $5 million (USD)</th>\n",
       "      <th>RevenueType_$25 to $50 million (USD)</th>\n",
       "      <th>RevenueType_$5 to $10 billion (USD)</th>\n",
       "      <th>RevenueType_$5 to $25 million (USD)</th>\n",
       "      <th>RevenueType_Unknown</th>\n",
       "    </tr>\n",
       "  </thead>\n",
       "  <tbody>\n",
       "    <tr>\n",
       "      <th>0</th>\n",
       "      <td>4.1</td>\n",
       "      <td>0</td>\n",
       "      <td>0</td>\n",
       "      <td>0</td>\n",
       "      <td>794</td>\n",
       "      <td>False</td>\n",
       "      <td>False</td>\n",
       "      <td>False</td>\n",
       "      <td>False</td>\n",
       "      <td>False</td>\n",
       "      <td>...</td>\n",
       "      <td>True</td>\n",
       "      <td>False</td>\n",
       "      <td>False</td>\n",
       "      <td>False</td>\n",
       "      <td>False</td>\n",
       "      <td>False</td>\n",
       "      <td>False</td>\n",
       "      <td>True</td>\n",
       "      <td>False</td>\n",
       "      <td>False</td>\n",
       "    </tr>\n",
       "    <tr>\n",
       "      <th>1</th>\n",
       "      <td>4.0</td>\n",
       "      <td>0</td>\n",
       "      <td>0</td>\n",
       "      <td>1</td>\n",
       "      <td>1216</td>\n",
       "      <td>False</td>\n",
       "      <td>False</td>\n",
       "      <td>False</td>\n",
       "      <td>False</td>\n",
       "      <td>False</td>\n",
       "      <td>...</td>\n",
       "      <td>False</td>\n",
       "      <td>False</td>\n",
       "      <td>False</td>\n",
       "      <td>False</td>\n",
       "      <td>False</td>\n",
       "      <td>False</td>\n",
       "      <td>True</td>\n",
       "      <td>False</td>\n",
       "      <td>False</td>\n",
       "      <td>False</td>\n",
       "    </tr>\n",
       "    <tr>\n",
       "      <th>2</th>\n",
       "      <td>-2.0</td>\n",
       "      <td>0</td>\n",
       "      <td>0</td>\n",
       "      <td>0</td>\n",
       "      <td>814</td>\n",
       "      <td>False</td>\n",
       "      <td>False</td>\n",
       "      <td>True</td>\n",
       "      <td>False</td>\n",
       "      <td>False</td>\n",
       "      <td>...</td>\n",
       "      <td>False</td>\n",
       "      <td>False</td>\n",
       "      <td>False</td>\n",
       "      <td>False</td>\n",
       "      <td>True</td>\n",
       "      <td>False</td>\n",
       "      <td>False</td>\n",
       "      <td>False</td>\n",
       "      <td>False</td>\n",
       "      <td>True</td>\n",
       "    </tr>\n",
       "    <tr>\n",
       "      <th>3</th>\n",
       "      <td>-2.0</td>\n",
       "      <td>0</td>\n",
       "      <td>0</td>\n",
       "      <td>0</td>\n",
       "      <td>484</td>\n",
       "      <td>False</td>\n",
       "      <td>False</td>\n",
       "      <td>False</td>\n",
       "      <td>False</td>\n",
       "      <td>False</td>\n",
       "      <td>...</td>\n",
       "      <td>False</td>\n",
       "      <td>False</td>\n",
       "      <td>False</td>\n",
       "      <td>True</td>\n",
       "      <td>False</td>\n",
       "      <td>False</td>\n",
       "      <td>False</td>\n",
       "      <td>False</td>\n",
       "      <td>False</td>\n",
       "      <td>True</td>\n",
       "    </tr>\n",
       "    <tr>\n",
       "      <th>4</th>\n",
       "      <td>4.0</td>\n",
       "      <td>0</td>\n",
       "      <td>1</td>\n",
       "      <td>0</td>\n",
       "      <td>778</td>\n",
       "      <td>False</td>\n",
       "      <td>True</td>\n",
       "      <td>False</td>\n",
       "      <td>False</td>\n",
       "      <td>False</td>\n",
       "      <td>...</td>\n",
       "      <td>False</td>\n",
       "      <td>False</td>\n",
       "      <td>False</td>\n",
       "      <td>False</td>\n",
       "      <td>False</td>\n",
       "      <td>False</td>\n",
       "      <td>True</td>\n",
       "      <td>False</td>\n",
       "      <td>False</td>\n",
       "      <td>False</td>\n",
       "    </tr>\n",
       "  </tbody>\n",
       "</table>\n",
       "<p>5 rows × 80 columns</p>\n",
       "</div>"
      ],
      "text/plain": [
       "   Rating  Pandas  Python  Excel  Job_Desc_len  CompanyName_Brainwave360  \\\n",
       "0     4.1       0       0      0           794                     False   \n",
       "1     4.0       0       0      1          1216                     False   \n",
       "2    -2.0       0       0      0           814                     False   \n",
       "3    -2.0       0       0      0           484                     False   \n",
       "4     4.0       0       1      0           778                     False   \n",
       "\n",
       "   CompanyName_Buchanan And Edwards Group  CompanyName_Context Labs  \\\n",
       "0                                   False                     False   \n",
       "1                                   False                     False   \n",
       "2                                   False                      True   \n",
       "3                                   False                     False   \n",
       "4                                    True                     False   \n",
       "\n",
       "   CompanyName_FAST GROWING TREES LLC  CompanyName_Lendistry  ...  \\\n",
       "0                               False                  False  ...   \n",
       "1                               False                  False  ...   \n",
       "2                               False                  False  ...   \n",
       "3                               False                  False  ...   \n",
       "4                               False                  False  ...   \n",
       "\n",
       "   SectorType_Manufacturing  SectorType_Media & Communication  \\\n",
       "0                      True                             False   \n",
       "1                     False                             False   \n",
       "2                     False                             False   \n",
       "3                     False                             False   \n",
       "4                     False                             False   \n",
       "\n",
       "   SectorType_Retail & Wholesale  SectorType_Unknown  \\\n",
       "0                          False               False   \n",
       "1                          False               False   \n",
       "2                          False               False   \n",
       "3                          False                True   \n",
       "4                          False               False   \n",
       "\n",
       "   SectorType_Unknown / Non-Applicable  RevenueType_$1 to $5 million (USD)  \\\n",
       "0                                False                               False   \n",
       "1                                False                               False   \n",
       "2                                 True                               False   \n",
       "3                                False                               False   \n",
       "4                                False                               False   \n",
       "\n",
       "   RevenueType_$25 to $50 million (USD)  RevenueType_$5 to $10 billion (USD)  \\\n",
       "0                                 False                                 True   \n",
       "1                                  True                                False   \n",
       "2                                 False                                False   \n",
       "3                                 False                                False   \n",
       "4                                  True                                False   \n",
       "\n",
       "   RevenueType_$5 to $25 million (USD)  RevenueType_Unknown  \n",
       "0                                False                False  \n",
       "1                                False                False  \n",
       "2                                False                 True  \n",
       "3                                False                 True  \n",
       "4                                False                False  \n",
       "\n",
       "[5 rows x 80 columns]"
      ]
     },
     "execution_count": 61,
     "metadata": {},
     "output_type": "execute_result"
    }
   ],
   "source": [
    "df_train_d.head()"
   ]
  },
  {
   "cell_type": "code",
   "execution_count": 98,
   "id": "2c01b2e0-2ca3-49c3-a11f-7b02777d1035",
   "metadata": {},
   "outputs": [],
   "source": [
    "X_train, X_test, y_train, y_test = train_test_split(df_train_d, df_test, test_size=0.33, random_state=42)"
   ]
  },
  {
   "cell_type": "code",
   "execution_count": 63,
   "id": "543f2b2e-6cc5-4aba-963a-60cba647fa05",
   "metadata": {},
   "outputs": [],
   "source": [
    "#Using stats model \n",
    "X = sm.add_constant(df_train_d)\n",
    "Y = df_test"
   ]
  },
  {
   "cell_type": "code",
   "execution_count": 64,
   "id": "a50a71eb-9c8e-4807-b9d6-c0eca6fece88",
   "metadata": {},
   "outputs": [],
   "source": [
    "model = sm.OLS(Y, X.astype(float))"
   ]
  },
  {
   "cell_type": "code",
   "execution_count": 65,
   "id": "5a9bfa88-af6d-4091-b590-297459957c00",
   "metadata": {},
   "outputs": [
    {
     "name": "stdout",
     "output_type": "stream",
     "text": [
      "                            OLS Regression Results                            \n",
      "==============================================================================\n",
      "Dep. Variable:                      y   R-squared:                       0.862\n",
      "Model:                            OLS   Adj. R-squared:                  0.858\n",
      "Method:                 Least Squares   F-statistic:                     189.9\n",
      "Date:                Tue, 19 Sep 2023   Prob (F-statistic):          9.05e-258\n",
      "Time:                        12:11:28   Log-Likelihood:                -2260.1\n",
      "No. Observations:                 659   AIC:                             4564.\n",
      "Df Residuals:                     637   BIC:                             4663.\n",
      "Df Model:                          21                                         \n",
      "Covariance Type:            nonrobust                                         \n",
      "==========================================================================================================================\n",
      "                                                             coef    std err          t      P>|t|      [0.025      0.975]\n",
      "--------------------------------------------------------------------------------------------------------------------------\n",
      "const                                                     25.6667      0.304     84.534      0.000      25.070      26.263\n",
      "Rating                                                     4.6768      0.233     20.096      0.000       4.220       5.134\n",
      "Pandas                                                    44.2500      1.699     26.052      0.000      40.915      47.585\n",
      "Python                                                    -6.8626      0.457    -15.009      0.000      -7.760      -5.965\n",
      "Excel                                                    -18.0421      0.511    -35.327      0.000     -19.045     -17.039\n",
      "Job_Desc_len                                               0.0520      0.002     33.861      0.000       0.049       0.055\n",
      "CompanyName_Brainwave360                                   0.7042      1.730      0.407      0.684      -2.693       4.101\n",
      "CompanyName_Buchanan And Edwards Group                    -0.8534      0.320     -2.668      0.008      -1.482      -0.225\n",
      "CompanyName_Context Labs                                   2.9585      0.326      9.069      0.000       2.318       3.599\n",
      "CompanyName_FAST GROWING TREES LLC                       -20.2958      1.777    -11.422      0.000     -23.785     -16.806\n",
      "CompanyName_Lendistry                                      1.9542      1.587      1.231      0.219      -1.162       5.071\n",
      "CompanyName_Matrix New World Engineering                  -1.6601      0.261     -6.361      0.000      -2.173      -1.148\n",
      "CompanyName_MetroStar                                      4.9555      0.329     15.043      0.000       4.309       5.602\n",
      "CompanyName_NXP Semiconductors                            -0.2613      0.945     -0.276      0.782      -2.118       1.595\n",
      "CompanyName_Nexlogica                                      9.6683      0.439     22.017      0.000       8.806      10.531\n",
      "CompanyName_Publicis Media                                -0.0630      0.420     -0.150      0.881      -0.887       0.761\n",
      "CompanyName_Ryden Global LLC                              17.2535      0.583     29.577      0.000      16.108      18.399\n",
      "CompanyName_SilverEdge                                     6.7042      1.786      3.753      0.000       3.196      10.212\n",
      "CompanyName_Sunixa Solutions                               3.2042      1.760      1.820      0.069      -0.252       6.661\n",
      "CompanyName_Tech brothers infoservices                    -2.0866      0.612     -3.409      0.001      -3.288      -0.885\n",
      "CompanyName_Tidepool                                      10.0945      0.161     62.871      0.000       9.779      10.410\n",
      "CompanyName_Unknown                                       -5.2958      0.688     -7.700      0.000      -6.646      -3.945\n",
      "CompanyName_plaxonic                                      -1.3146      0.300     -4.383      0.000      -1.904      -0.726\n",
      "Location_Austin, TX                                       -0.2613      0.945     -0.276      0.782      -2.118       1.595\n",
      "Location_Cambridge, MA                                     2.9585      0.326      9.069      0.000       2.318       3.599\n",
      "Location_Chantilly, VA                                     3.8892      0.377     10.328      0.000       3.150       4.629\n",
      "Location_McLean, VA                                       -0.8534      0.320     -2.668      0.008      -1.482      -0.225\n",
      "Location_New York, NY                                     -0.0630      0.420     -0.150      0.881      -0.887       0.761\n",
      "Location_Palo Alto, CA                                    10.0945      0.161     62.871      0.000       9.779      10.410\n",
      "Location_Remote                                            9.4459      0.364     25.985      0.000       8.732      10.160\n",
      "Location_Tampa, FL                                        -1.3146      0.300     -4.383      0.000      -1.904      -0.726\n",
      "Location_Tustin, CA                                       -3.1846      0.219    -14.537      0.000      -3.615      -2.754\n",
      "Location_Washington, DC                                    4.9555      0.329     15.043      0.000       4.309       5.602\n",
      "Job_Title_Data Scientist                                  10.0164      0.664     15.078      0.000       8.712      11.321\n",
      "Job_Title_Data Scientist (Remote - US based)              10.0945      0.161     62.871      0.000       9.779      10.410\n",
      "Job_Title_Junior Data Scientist                           -0.0630      0.420     -0.150      0.881      -0.887       0.761\n",
      "Job_Title_Sr. Data Analyst                                 5.6188      0.245     22.907      0.000       5.137       6.100\n",
      "NumberOfEmployees_1 to 50 Employees                       10.0945      0.161     62.871      0.000       9.779      10.410\n",
      "NumberOfEmployees_10000+ Employees                        -0.3243      0.573     -0.566      0.571      -1.449       0.800\n",
      "NumberOfEmployees_201 to 500 Employees                     0.9175      0.282      3.251      0.001       0.363       1.472\n",
      "NumberOfEmployees_51 to 200 Employees                      7.2598      0.452     16.057      0.000       6.372       8.148\n",
      "NumberOfEmployees_Unknown                                  7.7191      0.462     16.702      0.000       6.812       8.627\n",
      "FoundingYear_1926                                         -0.0630      0.420     -0.150      0.881      -0.887       0.761\n",
      "FoundingYear_1990                                         -1.6601      0.261     -6.361      0.000      -2.173      -1.148\n",
      "FoundingYear_1998                                         -0.8534      0.320     -2.668      0.008      -1.482      -0.225\n",
      "FoundingYear_1999                                          4.9555      0.329     15.043      0.000       4.309       5.602\n",
      "FoundingYear_2005                                         -5.0526      0.300    -16.860      0.000      -5.641      -4.464\n",
      "FoundingYear_2006                                         -0.2613      0.945     -0.276      0.782      -2.118       1.595\n",
      "FoundingYear_2013                                          8.7799      0.313     28.058      0.000       8.165       9.394\n",
      "FoundingYear_2015                                          2.4342      0.334      7.296      0.000       1.779       3.089\n",
      "FoundingYear_Unknown                                      17.3874      0.175     99.573      0.000      17.045      17.730\n",
      "CompanyType_Company - Private                             -7.1097      0.484    -14.704      0.000      -8.059      -6.160\n",
      "CompanyType_Company - Public                               5.2945      0.531      9.963      0.000       4.251       6.338\n",
      "CompanyType_Enterprise Software & Network Solutions        3.8892      0.377     10.328      0.000       3.150       4.629\n",
      "CompanyType_Non-profit Organisation                       10.0945      0.161     62.871      0.000       9.779      10.410\n",
      "CompanyType_Software Development                           2.9585      0.326      9.069      0.000       2.318       3.599\n",
      "CompanyType_Unknown                                        2.9580      0.453      6.533      0.000       2.069       3.847\n",
      "CompanyType_Unknown / Non-Applicable                       7.5817      0.436     17.379      0.000       6.725       8.438\n",
      "IndustryType_Advertising & Public Relations               -0.0630      0.420     -0.150      0.881      -0.887       0.761\n",
      "IndustryType_Architectural & Engineering Services         -1.6601      0.261     -6.361      0.000      -2.173      -1.148\n",
      "IndustryType_Banking & Lending                            -3.1846      0.219    -14.537      0.000      -3.615      -2.754\n",
      "IndustryType_Electronics Manufacturing                    -0.2613      0.945     -0.276      0.782      -2.118       1.595\n",
      "IndustryType_Healthcare Services & Hospitals              10.0945      0.161     62.871      0.000       9.779      10.410\n",
      "IndustryType_Home Furniture & Housewares Stores           -5.0526      0.300    -16.860      0.000      -5.641      -4.464\n",
      "IndustryType_Information Technology                        6.8477      0.232     29.517      0.000       6.392       7.303\n",
      "IndustryType_Information Technology Support Services       8.4063      0.310     27.134      0.000       7.798       9.015\n",
      "IndustryType_Unknown                                      10.5397      0.194     54.411      0.000      10.159      10.920\n",
      "SectorType_Construction, Repair & Maintenance Services    -1.6601      0.261     -6.361      0.000      -2.173      -1.148\n",
      "SectorType_Finance                                        -3.1846      0.219    -14.537      0.000      -3.615      -2.754\n",
      "SectorType_Healthcare                                     10.0945      0.161     62.871      0.000       9.779      10.410\n",
      "SectorType_Information Technology                          8.4063      0.310     27.134      0.000       7.798       9.015\n",
      "SectorType_Manufacturing                                  -0.2613      0.945     -0.276      0.782      -2.118       1.595\n",
      "SectorType_Media & Communication                          -0.0630      0.420     -0.150      0.881      -0.887       0.761\n",
      "SectorType_Retail & Wholesale                             -5.0526      0.300    -16.860      0.000      -5.641      -4.464\n",
      "SectorType_Unknown                                        10.5397      0.194     54.411      0.000      10.159      10.920\n",
      "SectorType_Unknown / Non-Applicable                        6.8477      0.232     29.517      0.000       6.392       7.303\n",
      "RevenueType_$1 to $5 million (USD)                         4.3042      0.286     15.042      0.000       3.742       4.866\n",
      "RevenueType_$25 to $50 million (USD)                       2.4420      0.336      7.259      0.000       1.781       3.103\n",
      "RevenueType_$5 to $10 billion (USD)                       -0.3243      0.573     -0.566      0.571      -1.449       0.800\n",
      "RevenueType_$5 to $25 million (USD)                       10.0945      0.161     62.871      0.000       9.779      10.410\n",
      "RevenueType_Unknown                                        9.1503      0.367     24.940      0.000       8.430       9.871\n",
      "==============================================================================\n",
      "Omnibus:                      111.114   Durbin-Watson:                   3.000\n",
      "Prob(Omnibus):                  0.000   Jarque-Bera (JB):             1750.019\n",
      "Skew:                           0.000   Prob(JB):                         0.00\n",
      "Kurtosis:                      10.983   Cond. No.                     2.19e+18\n",
      "==============================================================================\n",
      "\n",
      "Notes:\n",
      "[1] Standard Errors assume that the covariance matrix of the errors is correctly specified.\n",
      "[2] The smallest eigenvalue is 9.31e-29. This might indicate that there are\n",
      "strong multicollinearity problems or that the design matrix is singular.\n"
     ]
    }
   ],
   "source": [
    "results = model.fit()\n",
    "print(results.summary())"
   ]
  },
  {
   "cell_type": "code",
   "execution_count": 79,
   "id": "e5695908-5416-4f25-981f-7cf32fa368d9",
   "metadata": {},
   "outputs": [],
   "source": [
    "#Training with sklearn \n",
    "from sklearn.linear_model import LinearRegression, Lasso\n",
    "reg = LinearRegression().fit(X_train, y_train)\n",
    "#reg.score(X, y)"
   ]
  },
  {
   "cell_type": "code",
   "execution_count": 76,
   "id": "c5b866fb-5b71-4ed8-a0f8-27735436e120",
   "metadata": {},
   "outputs": [
    {
     "data": {
      "text/plain": [
       "0.818943765422172"
      ]
     },
     "execution_count": 76,
     "metadata": {},
     "output_type": "execute_result"
    }
   ],
   "source": [
    "reg.score(X_test, y_test)"
   ]
  },
  {
   "cell_type": "code",
   "execution_count": 88,
   "id": "5d2e6ea0-7904-42c9-8aa0-7f98262b7675",
   "metadata": {},
   "outputs": [],
   "source": [
    "#Linear Regression Cross Validation Score\n",
    "from sklearn.model_selection import cross_val_score\n",
    "score = cross_val_score(reg, X_train, y_train, cv=3)"
   ]
  },
  {
   "cell_type": "code",
   "execution_count": 89,
   "id": "5b96a537-a0a2-4955-aa0a-5e8b6f828d8a",
   "metadata": {},
   "outputs": [
    {
     "data": {
      "text/plain": [
       "0.8696827344158639"
      ]
     },
     "execution_count": 89,
     "metadata": {},
     "output_type": "execute_result"
    }
   ],
   "source": [
    "np.mean(score)"
   ]
  },
  {
   "cell_type": "code",
   "execution_count": 127,
   "id": "c55cfddb-27bb-491d-a3d5-9e3dde163b8c",
   "metadata": {},
   "outputs": [
    {
     "data": {
      "text/plain": [
       "0.8089913604317547"
      ]
     },
     "execution_count": 127,
     "metadata": {},
     "output_type": "execute_result"
    }
   ],
   "source": [
    "#Lasso \n",
    "clf_L = Lasso(alpha=0.1)\n",
    "clf_L.fit(X_train, y_train)\n",
    "clf_L.score(X_test, y_test)"
   ]
  },
  {
   "cell_type": "code",
   "execution_count": 128,
   "id": "4ccfd1c2-d41e-4935-b718-3b5cdb298865",
   "metadata": {},
   "outputs": [
    {
     "data": {
      "text/plain": [
       "0.8570227298364719"
      ]
     },
     "execution_count": 128,
     "metadata": {},
     "output_type": "execute_result"
    }
   ],
   "source": [
    "#Lasso cross validation\n",
    "#clf = Lasso(alpha=0.1)\n",
    "scoreLasso = cross_val_score(clf_L, X_train, y_train, cv=3)\n",
    "np.mean(scoreLasso)"
   ]
  },
  {
   "cell_type": "code",
   "execution_count": 94,
   "id": "4e562710-b1ff-4684-b688-b7c464d9b4ee",
   "metadata": {},
   "outputs": [],
   "source": [
    "#Support Vector Machines Regression"
   ]
  },
  {
   "cell_type": "code",
   "execution_count": 95,
   "id": "6408afe0-821e-4ee4-8b25-b021ee312664",
   "metadata": {},
   "outputs": [],
   "source": [
    "#svm.score(X_test, y_test)"
   ]
  },
  {
   "cell_type": "code",
   "execution_count": 102,
   "id": "eb3a2e1c-0d10-4b28-8875-b89e0d0da30d",
   "metadata": {},
   "outputs": [
    {
     "data": {
      "text/html": [
       "<style>#sk-container-id-5 {color: black;}#sk-container-id-5 pre{padding: 0;}#sk-container-id-5 div.sk-toggleable {background-color: white;}#sk-container-id-5 label.sk-toggleable__label {cursor: pointer;display: block;width: 100%;margin-bottom: 0;padding: 0.3em;box-sizing: border-box;text-align: center;}#sk-container-id-5 label.sk-toggleable__label-arrow:before {content: \"▸\";float: left;margin-right: 0.25em;color: #696969;}#sk-container-id-5 label.sk-toggleable__label-arrow:hover:before {color: black;}#sk-container-id-5 div.sk-estimator:hover label.sk-toggleable__label-arrow:before {color: black;}#sk-container-id-5 div.sk-toggleable__content {max-height: 0;max-width: 0;overflow: hidden;text-align: left;background-color: #f0f8ff;}#sk-container-id-5 div.sk-toggleable__content pre {margin: 0.2em;color: black;border-radius: 0.25em;background-color: #f0f8ff;}#sk-container-id-5 input.sk-toggleable__control:checked~div.sk-toggleable__content {max-height: 200px;max-width: 100%;overflow: auto;}#sk-container-id-5 input.sk-toggleable__control:checked~label.sk-toggleable__label-arrow:before {content: \"▾\";}#sk-container-id-5 div.sk-estimator input.sk-toggleable__control:checked~label.sk-toggleable__label {background-color: #d4ebff;}#sk-container-id-5 div.sk-label input.sk-toggleable__control:checked~label.sk-toggleable__label {background-color: #d4ebff;}#sk-container-id-5 input.sk-hidden--visually {border: 0;clip: rect(1px 1px 1px 1px);clip: rect(1px, 1px, 1px, 1px);height: 1px;margin: -1px;overflow: hidden;padding: 0;position: absolute;width: 1px;}#sk-container-id-5 div.sk-estimator {font-family: monospace;background-color: #f0f8ff;border: 1px dotted black;border-radius: 0.25em;box-sizing: border-box;margin-bottom: 0.5em;}#sk-container-id-5 div.sk-estimator:hover {background-color: #d4ebff;}#sk-container-id-5 div.sk-parallel-item::after {content: \"\";width: 100%;border-bottom: 1px solid gray;flex-grow: 1;}#sk-container-id-5 div.sk-label:hover label.sk-toggleable__label {background-color: #d4ebff;}#sk-container-id-5 div.sk-serial::before {content: \"\";position: absolute;border-left: 1px solid gray;box-sizing: border-box;top: 0;bottom: 0;left: 50%;z-index: 0;}#sk-container-id-5 div.sk-serial {display: flex;flex-direction: column;align-items: center;background-color: white;padding-right: 0.2em;padding-left: 0.2em;position: relative;}#sk-container-id-5 div.sk-item {position: relative;z-index: 1;}#sk-container-id-5 div.sk-parallel {display: flex;align-items: stretch;justify-content: center;background-color: white;position: relative;}#sk-container-id-5 div.sk-item::before, #sk-container-id-5 div.sk-parallel-item::before {content: \"\";position: absolute;border-left: 1px solid gray;box-sizing: border-box;top: 0;bottom: 0;left: 50%;z-index: -1;}#sk-container-id-5 div.sk-parallel-item {display: flex;flex-direction: column;z-index: 1;position: relative;background-color: white;}#sk-container-id-5 div.sk-parallel-item:first-child::after {align-self: flex-end;width: 50%;}#sk-container-id-5 div.sk-parallel-item:last-child::after {align-self: flex-start;width: 50%;}#sk-container-id-5 div.sk-parallel-item:only-child::after {width: 0;}#sk-container-id-5 div.sk-dashed-wrapped {border: 1px dashed gray;margin: 0 0.4em 0.5em 0.4em;box-sizing: border-box;padding-bottom: 0.4em;background-color: white;}#sk-container-id-5 div.sk-label label {font-family: monospace;font-weight: bold;display: inline-block;line-height: 1.2em;}#sk-container-id-5 div.sk-label-container {text-align: center;}#sk-container-id-5 div.sk-container {/* jupyter's `normalize.less` sets `[hidden] { display: none; }` but bootstrap.min.css set `[hidden] { display: none !important; }` so we also need the `!important` here to be able to override the default hidden behavior on the sphinx rendered scikit-learn.org. See: https://github.com/scikit-learn/scikit-learn/issues/21755 */display: inline-block !important;position: relative;}#sk-container-id-5 div.sk-text-repr-fallback {display: none;}</style><div id=\"sk-container-id-5\" class=\"sk-top-container\"><div class=\"sk-text-repr-fallback\"><pre>BayesianRidge()</pre><b>In a Jupyter environment, please rerun this cell to show the HTML representation or trust the notebook. <br />On GitHub, the HTML representation is unable to render, please try loading this page with nbviewer.org.</b></div><div class=\"sk-container\" hidden><div class=\"sk-item\"><div class=\"sk-estimator sk-toggleable\"><input class=\"sk-toggleable__control sk-hidden--visually\" id=\"sk-estimator-id-7\" type=\"checkbox\" checked><label for=\"sk-estimator-id-7\" class=\"sk-toggleable__label sk-toggleable__label-arrow\">BayesianRidge</label><div class=\"sk-toggleable__content\"><pre>BayesianRidge()</pre></div></div></div></div></div>"
      ],
      "text/plain": [
       "BayesianRidge()"
      ]
     },
     "execution_count": 102,
     "metadata": {},
     "output_type": "execute_result"
    }
   ],
   "source": [
    "#Bayesian Ridge\n",
    "from sklearn import linear_model\n",
    "reg_b = linear_model.BayesianRidge()\n",
    "reg_b.fit(X_train, y_train.values.ravel())"
   ]
  },
  {
   "cell_type": "code",
   "execution_count": 101,
   "id": "ed049e59-0090-4464-a8e5-801ab36e0314",
   "metadata": {},
   "outputs": [
    {
     "data": {
      "text/plain": [
       "0.8192977757980543"
      ]
     },
     "execution_count": 101,
     "metadata": {},
     "output_type": "execute_result"
    }
   ],
   "source": [
    "reg_b.score(X_test, y_test)"
   ]
  },
  {
   "cell_type": "code",
   "execution_count": 105,
   "id": "3de9b8b5-128e-4daf-b115-c4cd5470bfee",
   "metadata": {},
   "outputs": [
    {
     "data": {
      "text/plain": [
       "0.8691297325345936"
      ]
     },
     "execution_count": 105,
     "metadata": {},
     "output_type": "execute_result"
    }
   ],
   "source": [
    "#Cross Validation Score BayesianRidge\n",
    "scoreLasso = cross_val_score(reg_b, X_train, y_train.values.ravel(), cv=3)\n",
    "np.mean(scoreLasso)"
   ]
  },
  {
   "cell_type": "code",
   "execution_count": 131,
   "id": "a2e3fdf2-f449-471f-8f53-ebf3f168ac0f",
   "metadata": {},
   "outputs": [],
   "source": [
    "#Choose the best model with GridsearchCV using the random regressor\n",
    "from sklearn.ensemble import RandomForestRegressor\n",
    "rmf= RandomForestRegressor()\n",
    "\n",
    "from sklearn.model_selection import GridSearchCV\n",
    "parameters = {'n_estimators':range(10,300,10), 'criterion':('absolute_error', 'squared_error'), 'max_features':('sqrt', 'log2')}\n",
    "clf_GCV = GridSearchCV(rmf, parameters, cv=3,refit=True)"
   ]
  },
  {
   "cell_type": "code",
   "execution_count": 132,
   "id": "d85bd75e-7476-418a-8e79-a865b6cfdd07",
   "metadata": {},
   "outputs": [
    {
     "data": {
      "text/html": [
       "<style>#sk-container-id-11 {color: black;}#sk-container-id-11 pre{padding: 0;}#sk-container-id-11 div.sk-toggleable {background-color: white;}#sk-container-id-11 label.sk-toggleable__label {cursor: pointer;display: block;width: 100%;margin-bottom: 0;padding: 0.3em;box-sizing: border-box;text-align: center;}#sk-container-id-11 label.sk-toggleable__label-arrow:before {content: \"▸\";float: left;margin-right: 0.25em;color: #696969;}#sk-container-id-11 label.sk-toggleable__label-arrow:hover:before {color: black;}#sk-container-id-11 div.sk-estimator:hover label.sk-toggleable__label-arrow:before {color: black;}#sk-container-id-11 div.sk-toggleable__content {max-height: 0;max-width: 0;overflow: hidden;text-align: left;background-color: #f0f8ff;}#sk-container-id-11 div.sk-toggleable__content pre {margin: 0.2em;color: black;border-radius: 0.25em;background-color: #f0f8ff;}#sk-container-id-11 input.sk-toggleable__control:checked~div.sk-toggleable__content {max-height: 200px;max-width: 100%;overflow: auto;}#sk-container-id-11 input.sk-toggleable__control:checked~label.sk-toggleable__label-arrow:before {content: \"▾\";}#sk-container-id-11 div.sk-estimator input.sk-toggleable__control:checked~label.sk-toggleable__label {background-color: #d4ebff;}#sk-container-id-11 div.sk-label input.sk-toggleable__control:checked~label.sk-toggleable__label {background-color: #d4ebff;}#sk-container-id-11 input.sk-hidden--visually {border: 0;clip: rect(1px 1px 1px 1px);clip: rect(1px, 1px, 1px, 1px);height: 1px;margin: -1px;overflow: hidden;padding: 0;position: absolute;width: 1px;}#sk-container-id-11 div.sk-estimator {font-family: monospace;background-color: #f0f8ff;border: 1px dotted black;border-radius: 0.25em;box-sizing: border-box;margin-bottom: 0.5em;}#sk-container-id-11 div.sk-estimator:hover {background-color: #d4ebff;}#sk-container-id-11 div.sk-parallel-item::after {content: \"\";width: 100%;border-bottom: 1px solid gray;flex-grow: 1;}#sk-container-id-11 div.sk-label:hover label.sk-toggleable__label {background-color: #d4ebff;}#sk-container-id-11 div.sk-serial::before {content: \"\";position: absolute;border-left: 1px solid gray;box-sizing: border-box;top: 0;bottom: 0;left: 50%;z-index: 0;}#sk-container-id-11 div.sk-serial {display: flex;flex-direction: column;align-items: center;background-color: white;padding-right: 0.2em;padding-left: 0.2em;position: relative;}#sk-container-id-11 div.sk-item {position: relative;z-index: 1;}#sk-container-id-11 div.sk-parallel {display: flex;align-items: stretch;justify-content: center;background-color: white;position: relative;}#sk-container-id-11 div.sk-item::before, #sk-container-id-11 div.sk-parallel-item::before {content: \"\";position: absolute;border-left: 1px solid gray;box-sizing: border-box;top: 0;bottom: 0;left: 50%;z-index: -1;}#sk-container-id-11 div.sk-parallel-item {display: flex;flex-direction: column;z-index: 1;position: relative;background-color: white;}#sk-container-id-11 div.sk-parallel-item:first-child::after {align-self: flex-end;width: 50%;}#sk-container-id-11 div.sk-parallel-item:last-child::after {align-self: flex-start;width: 50%;}#sk-container-id-11 div.sk-parallel-item:only-child::after {width: 0;}#sk-container-id-11 div.sk-dashed-wrapped {border: 1px dashed gray;margin: 0 0.4em 0.5em 0.4em;box-sizing: border-box;padding-bottom: 0.4em;background-color: white;}#sk-container-id-11 div.sk-label label {font-family: monospace;font-weight: bold;display: inline-block;line-height: 1.2em;}#sk-container-id-11 div.sk-label-container {text-align: center;}#sk-container-id-11 div.sk-container {/* jupyter's `normalize.less` sets `[hidden] { display: none; }` but bootstrap.min.css set `[hidden] { display: none !important; }` so we also need the `!important` here to be able to override the default hidden behavior on the sphinx rendered scikit-learn.org. See: https://github.com/scikit-learn/scikit-learn/issues/21755 */display: inline-block !important;position: relative;}#sk-container-id-11 div.sk-text-repr-fallback {display: none;}</style><div id=\"sk-container-id-11\" class=\"sk-top-container\"><div class=\"sk-text-repr-fallback\"><pre>GridSearchCV(cv=3, estimator=RandomForestRegressor(),\n",
       "             param_grid={&#x27;criterion&#x27;: (&#x27;absolute_error&#x27;, &#x27;squared_error&#x27;),\n",
       "                         &#x27;max_features&#x27;: (&#x27;sqrt&#x27;, &#x27;log2&#x27;),\n",
       "                         &#x27;n_estimators&#x27;: range(10, 300, 10)})</pre><b>In a Jupyter environment, please rerun this cell to show the HTML representation or trust the notebook. <br />On GitHub, the HTML representation is unable to render, please try loading this page with nbviewer.org.</b></div><div class=\"sk-container\" hidden><div class=\"sk-item sk-dashed-wrapped\"><div class=\"sk-label-container\"><div class=\"sk-label sk-toggleable\"><input class=\"sk-toggleable__control sk-hidden--visually\" id=\"sk-estimator-id-21\" type=\"checkbox\" ><label for=\"sk-estimator-id-21\" class=\"sk-toggleable__label sk-toggleable__label-arrow\">GridSearchCV</label><div class=\"sk-toggleable__content\"><pre>GridSearchCV(cv=3, estimator=RandomForestRegressor(),\n",
       "             param_grid={&#x27;criterion&#x27;: (&#x27;absolute_error&#x27;, &#x27;squared_error&#x27;),\n",
       "                         &#x27;max_features&#x27;: (&#x27;sqrt&#x27;, &#x27;log2&#x27;),\n",
       "                         &#x27;n_estimators&#x27;: range(10, 300, 10)})</pre></div></div></div><div class=\"sk-parallel\"><div class=\"sk-parallel-item\"><div class=\"sk-item\"><div class=\"sk-label-container\"><div class=\"sk-label sk-toggleable\"><input class=\"sk-toggleable__control sk-hidden--visually\" id=\"sk-estimator-id-22\" type=\"checkbox\" ><label for=\"sk-estimator-id-22\" class=\"sk-toggleable__label sk-toggleable__label-arrow\">estimator: RandomForestRegressor</label><div class=\"sk-toggleable__content\"><pre>RandomForestRegressor()</pre></div></div></div><div class=\"sk-serial\"><div class=\"sk-item\"><div class=\"sk-estimator sk-toggleable\"><input class=\"sk-toggleable__control sk-hidden--visually\" id=\"sk-estimator-id-23\" type=\"checkbox\" ><label for=\"sk-estimator-id-23\" class=\"sk-toggleable__label sk-toggleable__label-arrow\">RandomForestRegressor</label><div class=\"sk-toggleable__content\"><pre>RandomForestRegressor()</pre></div></div></div></div></div></div></div></div></div></div>"
      ],
      "text/plain": [
       "GridSearchCV(cv=3, estimator=RandomForestRegressor(),\n",
       "             param_grid={'criterion': ('absolute_error', 'squared_error'),\n",
       "                         'max_features': ('sqrt', 'log2'),\n",
       "                         'n_estimators': range(10, 300, 10)})"
      ]
     },
     "execution_count": 132,
     "metadata": {},
     "output_type": "execute_result"
    }
   ],
   "source": [
    "clf_GCV.fit(X_train, y_train.values.ravel())   #X_train, y_train,"
   ]
  },
  {
   "cell_type": "code",
   "execution_count": 133,
   "id": "18f084c2-186e-481b-8020-7f153c36009a",
   "metadata": {},
   "outputs": [
    {
     "data": {
      "text/plain": [
       "{'criterion': 'squared_error', 'max_features': 'sqrt', 'n_estimators': 90}"
      ]
     },
     "execution_count": 133,
     "metadata": {},
     "output_type": "execute_result"
    }
   ],
   "source": [
    "clf_GCV.best_params_"
   ]
  },
  {
   "cell_type": "code",
   "execution_count": 134,
   "id": "af24342a-cb56-45a1-90e4-d2518e8db4d2",
   "metadata": {},
   "outputs": [
    {
     "data": {
      "text/plain": [
       "0.8727449267242525"
      ]
     },
     "execution_count": 134,
     "metadata": {},
     "output_type": "execute_result"
    }
   ],
   "source": [
    "clf_GCV.best_score_"
   ]
  },
  {
   "cell_type": "code",
   "execution_count": 122,
   "id": "1a218e4e-cdd3-478e-aeb3-492d4834ffa0",
   "metadata": {},
   "outputs": [],
   "source": [
    "#roc_auc_score(y_test, rfc.predict_proba(x_test))"
   ]
  },
  {
   "cell_type": "code",
   "execution_count": 135,
   "id": "6f320150-e6de-40ac-8d96-b0325d42a23e",
   "metadata": {},
   "outputs": [
    {
     "data": {
      "text/html": [
       "<style>#sk-container-id-12 {color: black;}#sk-container-id-12 pre{padding: 0;}#sk-container-id-12 div.sk-toggleable {background-color: white;}#sk-container-id-12 label.sk-toggleable__label {cursor: pointer;display: block;width: 100%;margin-bottom: 0;padding: 0.3em;box-sizing: border-box;text-align: center;}#sk-container-id-12 label.sk-toggleable__label-arrow:before {content: \"▸\";float: left;margin-right: 0.25em;color: #696969;}#sk-container-id-12 label.sk-toggleable__label-arrow:hover:before {color: black;}#sk-container-id-12 div.sk-estimator:hover label.sk-toggleable__label-arrow:before {color: black;}#sk-container-id-12 div.sk-toggleable__content {max-height: 0;max-width: 0;overflow: hidden;text-align: left;background-color: #f0f8ff;}#sk-container-id-12 div.sk-toggleable__content pre {margin: 0.2em;color: black;border-radius: 0.25em;background-color: #f0f8ff;}#sk-container-id-12 input.sk-toggleable__control:checked~div.sk-toggleable__content {max-height: 200px;max-width: 100%;overflow: auto;}#sk-container-id-12 input.sk-toggleable__control:checked~label.sk-toggleable__label-arrow:before {content: \"▾\";}#sk-container-id-12 div.sk-estimator input.sk-toggleable__control:checked~label.sk-toggleable__label {background-color: #d4ebff;}#sk-container-id-12 div.sk-label input.sk-toggleable__control:checked~label.sk-toggleable__label {background-color: #d4ebff;}#sk-container-id-12 input.sk-hidden--visually {border: 0;clip: rect(1px 1px 1px 1px);clip: rect(1px, 1px, 1px, 1px);height: 1px;margin: -1px;overflow: hidden;padding: 0;position: absolute;width: 1px;}#sk-container-id-12 div.sk-estimator {font-family: monospace;background-color: #f0f8ff;border: 1px dotted black;border-radius: 0.25em;box-sizing: border-box;margin-bottom: 0.5em;}#sk-container-id-12 div.sk-estimator:hover {background-color: #d4ebff;}#sk-container-id-12 div.sk-parallel-item::after {content: \"\";width: 100%;border-bottom: 1px solid gray;flex-grow: 1;}#sk-container-id-12 div.sk-label:hover label.sk-toggleable__label {background-color: #d4ebff;}#sk-container-id-12 div.sk-serial::before {content: \"\";position: absolute;border-left: 1px solid gray;box-sizing: border-box;top: 0;bottom: 0;left: 50%;z-index: 0;}#sk-container-id-12 div.sk-serial {display: flex;flex-direction: column;align-items: center;background-color: white;padding-right: 0.2em;padding-left: 0.2em;position: relative;}#sk-container-id-12 div.sk-item {position: relative;z-index: 1;}#sk-container-id-12 div.sk-parallel {display: flex;align-items: stretch;justify-content: center;background-color: white;position: relative;}#sk-container-id-12 div.sk-item::before, #sk-container-id-12 div.sk-parallel-item::before {content: \"\";position: absolute;border-left: 1px solid gray;box-sizing: border-box;top: 0;bottom: 0;left: 50%;z-index: -1;}#sk-container-id-12 div.sk-parallel-item {display: flex;flex-direction: column;z-index: 1;position: relative;background-color: white;}#sk-container-id-12 div.sk-parallel-item:first-child::after {align-self: flex-end;width: 50%;}#sk-container-id-12 div.sk-parallel-item:last-child::after {align-self: flex-start;width: 50%;}#sk-container-id-12 div.sk-parallel-item:only-child::after {width: 0;}#sk-container-id-12 div.sk-dashed-wrapped {border: 1px dashed gray;margin: 0 0.4em 0.5em 0.4em;box-sizing: border-box;padding-bottom: 0.4em;background-color: white;}#sk-container-id-12 div.sk-label label {font-family: monospace;font-weight: bold;display: inline-block;line-height: 1.2em;}#sk-container-id-12 div.sk-label-container {text-align: center;}#sk-container-id-12 div.sk-container {/* jupyter's `normalize.less` sets `[hidden] { display: none; }` but bootstrap.min.css set `[hidden] { display: none !important; }` so we also need the `!important` here to be able to override the default hidden behavior on the sphinx rendered scikit-learn.org. See: https://github.com/scikit-learn/scikit-learn/issues/21755 */display: inline-block !important;position: relative;}#sk-container-id-12 div.sk-text-repr-fallback {display: none;}</style><div id=\"sk-container-id-12\" class=\"sk-top-container\"><div class=\"sk-text-repr-fallback\"><pre>RandomForestRegressor(max_features=&#x27;sqrt&#x27;, n_estimators=90)</pre><b>In a Jupyter environment, please rerun this cell to show the HTML representation or trust the notebook. <br />On GitHub, the HTML representation is unable to render, please try loading this page with nbviewer.org.</b></div><div class=\"sk-container\" hidden><div class=\"sk-item\"><div class=\"sk-estimator sk-toggleable\"><input class=\"sk-toggleable__control sk-hidden--visually\" id=\"sk-estimator-id-24\" type=\"checkbox\" checked><label for=\"sk-estimator-id-24\" class=\"sk-toggleable__label sk-toggleable__label-arrow\">RandomForestRegressor</label><div class=\"sk-toggleable__content\"><pre>RandomForestRegressor(max_features=&#x27;sqrt&#x27;, n_estimators=90)</pre></div></div></div></div></div>"
      ],
      "text/plain": [
       "RandomForestRegressor(max_features='sqrt', n_estimators=90)"
      ]
     },
     "execution_count": 135,
     "metadata": {},
     "output_type": "execute_result"
    }
   ],
   "source": [
    "clf_GCV.best_estimator_"
   ]
  },
  {
   "cell_type": "code",
   "execution_count": 138,
   "id": "a0339beb-6319-4503-9e3f-6102db1cc0a7",
   "metadata": {},
   "outputs": [],
   "source": [
    "# Predictions and tests\n",
    "#Linear Regression\n",
    "regPredict = reg.predict(X_test)"
   ]
  },
  {
   "cell_type": "code",
   "execution_count": 139,
   "id": "eccc4f20-9f20-4080-b009-27fa8b38c804",
   "metadata": {},
   "outputs": [],
   "source": [
    "#Lasso Regression\n",
    "clf_LPredict = clf_L.predict(X_test)"
   ]
  },
  {
   "cell_type": "code",
   "execution_count": 140,
   "id": "31aa04b3-6361-444e-a725-e0ae759f3646",
   "metadata": {},
   "outputs": [],
   "source": [
    "#BayesianRidge\n",
    "reg_bPredict = reg_b.predict(X_test)"
   ]
  },
  {
   "cell_type": "code",
   "execution_count": 141,
   "id": "b74466f2-f00a-4836-b599-8bf1246751cd",
   "metadata": {},
   "outputs": [],
   "source": [
    "#GridsearchCV\n",
    "clf_GCVPredict = clf_GCV.best_estimator_.predict(X_test)"
   ]
  },
  {
   "cell_type": "code",
   "execution_count": 148,
   "id": "64056ea1-c411-40d1-b6d5-84645f3c53dd",
   "metadata": {},
   "outputs": [
    {
     "data": {
      "text/plain": [
       "3.0688073394547843"
      ]
     },
     "execution_count": 148,
     "metadata": {},
     "output_type": "execute_result"
    }
   ],
   "source": [
    "#Test the error with mean absolute error\n",
    "from sklearn.metrics import mean_absolute_error \n",
    "\n",
    "#Linear Regression\n",
    "mean_absolute_error(y_test.values,regPredict)"
   ]
  },
  {
   "cell_type": "code",
   "execution_count": 156,
   "id": "6c25069d-3ba9-4d33-9ed7-81c5e5caed0c",
   "metadata": {},
   "outputs": [
    {
     "data": {
      "text/plain": [
       "4.664744021157993"
      ]
     },
     "execution_count": 156,
     "metadata": {},
     "output_type": "execute_result"
    }
   ],
   "source": [
    "#Lasso Regression\n",
    "mean_absolute_error(y_test.values,clf_LPredict)"
   ]
  },
  {
   "cell_type": "code",
   "execution_count": 157,
   "id": "f7afa467-f7cf-412a-910c-e83b06d62a0d",
   "metadata": {},
   "outputs": [
    {
     "data": {
      "text/plain": [
       "3.150464511199651"
      ]
     },
     "execution_count": 157,
     "metadata": {},
     "output_type": "execute_result"
    }
   ],
   "source": [
    "#BayesianRidge\n",
    "mean_absolute_error(y_test.values,reg_bPredict)"
   ]
  },
  {
   "cell_type": "code",
   "execution_count": 158,
   "id": "41678a6c-5a72-40bc-bf42-01405244346c",
   "metadata": {},
   "outputs": [
    {
     "data": {
      "text/plain": [
       "3.069086746643222"
      ]
     },
     "execution_count": 158,
     "metadata": {},
     "output_type": "execute_result"
    }
   ],
   "source": [
    "#GridsearchCV\n",
    "mean_absolute_error(y_test.values,clf_GCVPredict)"
   ]
  }
 ],
 "metadata": {
  "kernelspec": {
   "display_name": "Python 3 (ipykernel)",
   "language": "python",
   "name": "python3"
  },
  "language_info": {
   "codemirror_mode": {
    "name": "ipython",
    "version": 3
   },
   "file_extension": ".py",
   "mimetype": "text/x-python",
   "name": "python",
   "nbconvert_exporter": "python",
   "pygments_lexer": "ipython3",
   "version": "3.10.11"
  }
 },
 "nbformat": 4,
 "nbformat_minor": 5
}
