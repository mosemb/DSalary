{
 "cells": [
  {
   "cell_type": "code",
   "execution_count": 22,
   "id": "fd2730e5-2b7e-4c7d-83ea-f435440f6837",
   "metadata": {},
   "outputs": [],
   "source": [
    "from selenium.common.exceptions import NoSuchElementException, ElementClickInterceptedException\n",
    "from selenium import webdriver\n",
    "from selenium.webdriver.common.by import By\n",
    "from selenium.webdriver.support.ui import WebDriverWait\n",
    "from selenium.webdriver.support import expected_conditions as EC\n",
    "from selenium.webdriver.common.keys import Keys\n",
    "import time"
   ]
  },
  {
   "cell_type": "code",
   "execution_count": 30,
   "id": "11aab2db-35e1-4598-81b3-ef677b550ea0",
   "metadata": {},
   "outputs": [
    {
     "name": "stdout",
     "output_type": "stream",
     "text": [
      "<class 'list'>\n",
      "[<selenium.webdriver.remote.webelement.WebElement (session=\"4abc0609b25e0009f56c3b707ae804ca\", element=\"4561FE5B43DDB20592A2C358E10DE7A0_element_54\")>]\n",
      "Count now 1\n",
      "Brainwave360\n",
      "Data Scientist\n",
      "Remote\n",
      "US$112K - US$135K (Employer Est.)\n",
      "Easy Apply\n",
      "Bachelor's degree in a quantitative field such as Mathematics, Statistics, or Computer Science. Experience working with big data platforms and tools.…\n",
      "10d\n",
      "Element found\n",
      "Count now 2\n",
      "Count now 3\n",
      "Count now 4\n",
      "Count now 5\n",
      "Count now 6\n",
      "Count now 7\n",
      "Count now 8\n",
      "Count now 9\n",
      "Count now 10\n",
      "Count now 11\n",
      "Count now 12\n",
      "Count now 13\n",
      "Count now 14\n",
      "Count now 15\n",
      "Count now 16\n",
      "Count now 17\n",
      "Count now 18\n",
      "Count now 19\n",
      "Count now 20\n",
      "Count now 21\n",
      "Count now 22\n",
      "Count now 23\n",
      "Count now 24\n",
      "Count now 25\n",
      "Count now 26\n",
      "Count now 27\n",
      "Count now 28\n",
      "Count now 29\n",
      "Count now 30\n",
      "Number of jobs 30\n"
     ]
    }
   ],
   "source": [
    "url = 'https://www.glassdoor.sg/Job/united-states-data-scientist-jobs-SRCH_IL.0,13_IN1_KO14,28.htm'#'https://www.glassdoor.com/Job/united-states-data-scientist-jobs-SRCH_IL.0,13_IN1_KO14,28.htm'\n",
    "      #'https://www.glassdoor.sg/Job/united-states-data-scientist-jobs-SRCH_IL.0,13_IN1_KO14,28.htm'\n",
    "driver = webdriver.Chrome()\n",
    "driver.get(url)\n",
    "jobs = []\n",
    "\n",
    "num_jobs = 5\n",
    "\n",
    "#while len(jobs) < num_jobs:\n",
    "    #driver.find_element(By.CLASS_NAME,\"selected\").click()\n",
    "    #job_buttons = driver.find_element(By.CSS_SELECTOR,\"#MainCol > div:nth-child(1) > ul\")\n",
    "\n",
    "pagenumbers = driver.find_elements(By.XPATH, \"/html/body/div[2]/div[2]/div/div/div/div[2]/section/article/div[2]/div/div[2]\")\n",
    "print (type(pagenumbers))\n",
    "print(pagenumbers)\n",
    "    \n",
    "resultSet = driver.find_element(By.CSS_SELECTOR,\"#MainCol > div:nth-child(1) > ul\")\n",
    "options = resultSet.find_elements(By.TAG_NAME,\"li\")\n",
    "count = 0 \n",
    "for option in options:\n",
    "    #print(option.text)\n",
    "    \n",
    "    count +=1\n",
    "    print(\"Count now \"+str(count))\n",
    "\n",
    "    if count == 1:\n",
    "        print(option.text)\n",
    "        option.click()\n",
    "        #time.sleep(15)\n",
    "        try:\n",
    "            WebDriverWait(driver, 20).until(EC.element_to_be_clickable((By.CSS_SELECTOR, \"#LoginModal > div > div > div > div.actionBarMt0.css-gss116.e1jtvglp0 > button\"))).click() \n",
    "            #driver.find_element(By.XPATH, \"/html/body/div[14]/div/div/div/div[2]/button\").click()\n",
    "            print(\"Element found\")\n",
    "        except NoSuchElementException:\n",
    "            print(\"Element not found\")\n",
    "            pass\n",
    "    else:\n",
    "        option.click()\n",
    "    \n",
    "\n",
    "print(\"Number of jobs \"+str(count))"
   ]
  },
  {
   "cell_type": "code",
   "execution_count": null,
   "id": "21aa0788-fe47-4393-af9f-c450cfa021da",
   "metadata": {},
   "outputs": [],
   "source": []
  }
 ],
 "metadata": {
  "kernelspec": {
   "display_name": "Python 3 (ipykernel)",
   "language": "python",
   "name": "python3"
  },
  "language_info": {
   "codemirror_mode": {
    "name": "ipython",
    "version": 3
   },
   "file_extension": ".py",
   "mimetype": "text/x-python",
   "name": "python",
   "nbconvert_exporter": "python",
   "pygments_lexer": "ipython3",
   "version": "3.10.11"
  }
 },
 "nbformat": 4,
 "nbformat_minor": 5
}
