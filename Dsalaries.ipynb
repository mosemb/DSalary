{
 "cells": [
  {
   "cell_type": "code",
   "execution_count": 22,
   "id": "fd2730e5-2b7e-4c7d-83ea-f435440f6837",
   "metadata": {},
   "outputs": [],
   "source": [
    "from selenium.common.exceptions import NoSuchElementException, ElementClickInterceptedException\n",
    "from selenium import webdriver\n",
    "from selenium.webdriver.common.by import By\n",
    "from selenium.webdriver.support.ui import WebDriverWait\n",
    "from selenium.webdriver.support import expected_conditions as EC\n",
    "from selenium.webdriver.common.keys import Keys\n",
    "import time"
   ]
  },
  {
   "cell_type": "code",
   "execution_count": 31,
   "id": "11aab2db-35e1-4598-81b3-ef677b550ea0",
   "metadata": {},
   "outputs": [
    {
     "name": "stdout",
     "output_type": "stream",
     "text": [
      "Count now 1\n",
      "Brainwave360\n",
      "Data Scientist\n",
      "Remote\n",
      "US$112K - US$135K (Employer Est.)\n",
      "Easy Apply\n",
      "Bachelor's degree in a quantitative field such as Mathematics, Statistics, or Computer Science. Experience working with big data platforms and tools.…\n",
      "11d\n",
      "Element found\n",
      "Count now 2\n",
      "Count now 3\n",
      "Count now 4\n",
      "Count now 5\n",
      "Count now 6\n",
      "Count now 7\n",
      "Count now 8\n",
      "Count now 9\n",
      "Count now 10\n",
      "Count now 11\n",
      "Count now 12\n",
      "Count now 13\n",
      "Count now 14\n",
      "Count now 15\n",
      "Count now 16\n",
      "Count now 17\n",
      "Count now 18\n",
      "Count now 19\n",
      "Count now 20\n",
      "Count now 21\n",
      "Count now 22\n",
      "Count now 23\n",
      "Count now 24\n",
      "Count now 25\n",
      "Count now 26\n",
      "Count now 27\n",
      "Count now 28\n",
      "Count now 29\n",
      "Count now 30\n",
      "Count now 1\n",
      "Brainwave360\n",
      "Data Scientist\n",
      "Remote\n",
      "US$112K - US$135K (Employer Est.)\n",
      "Easy Apply\n",
      "Bachelor's degree in a quantitative field such as Mathematics, Statistics, or Computer Science. Experience working with big data platforms and tools.…\n",
      "11d\n"
     ]
    },
    {
     "ename": "TimeoutException",
     "evalue": "Message: \nStacktrace:\n\tGetHandleVerifier [0x00007FF78B8152A2+57122]\n\t(No symbol) [0x00007FF78B78EA92]\n\t(No symbol) [0x00007FF78B65E3AB]\n\t(No symbol) [0x00007FF78B697D3E]\n\t(No symbol) [0x00007FF78B697E2C]\n\t(No symbol) [0x00007FF78B6D0B67]\n\t(No symbol) [0x00007FF78B6B701F]\n\t(No symbol) [0x00007FF78B6CEB82]\n\t(No symbol) [0x00007FF78B6B6DB3]\n\t(No symbol) [0x00007FF78B68D2B1]\n\t(No symbol) [0x00007FF78B68E494]\n\tGetHandleVerifier [0x00007FF78BABEF82+2849794]\n\tGetHandleVerifier [0x00007FF78BB11D24+3189156]\n\tGetHandleVerifier [0x00007FF78BB0ACAF+3160367]\n\tGetHandleVerifier [0x00007FF78B8A6D06+653702]\n\t(No symbol) [0x00007FF78B79A208]\n\t(No symbol) [0x00007FF78B7962C4]\n\t(No symbol) [0x00007FF78B7963F6]\n\t(No symbol) [0x00007FF78B7867A3]\n\tBaseThreadInitThunk [0x00007FF9023F7614+20]\n\tRtlUserThreadStart [0x00007FF9041026A1+33]\n",
     "output_type": "error",
     "traceback": [
      "\u001b[1;31m---------------------------------------------------------------------------\u001b[0m",
      "\u001b[1;31mTimeoutException\u001b[0m                          Traceback (most recent call last)",
      "Cell \u001b[1;32mIn[31], line 31\u001b[0m\n\u001b[0;32m     28\u001b[0m option\u001b[38;5;241m.\u001b[39mclick()\n\u001b[0;32m     30\u001b[0m \u001b[38;5;28;01mtry\u001b[39;00m:\n\u001b[1;32m---> 31\u001b[0m     \u001b[43mWebDriverWait\u001b[49m\u001b[43m(\u001b[49m\u001b[43mdriver\u001b[49m\u001b[43m,\u001b[49m\u001b[43m \u001b[49m\u001b[38;5;241;43m20\u001b[39;49m\u001b[43m)\u001b[49m\u001b[38;5;241;43m.\u001b[39;49m\u001b[43muntil\u001b[49m\u001b[43m(\u001b[49m\u001b[43mEC\u001b[49m\u001b[38;5;241;43m.\u001b[39;49m\u001b[43melement_to_be_clickable\u001b[49m\u001b[43m(\u001b[49m\u001b[43m(\u001b[49m\u001b[43mBy\u001b[49m\u001b[38;5;241;43m.\u001b[39;49m\u001b[43mCSS_SELECTOR\u001b[49m\u001b[43m,\u001b[49m\u001b[43m \u001b[49m\u001b[38;5;124;43m\"\u001b[39;49m\u001b[38;5;124;43m#LoginModal > div > div > div > div.actionBarMt0.css-gss116.e1jtvglp0 > button\u001b[39;49m\u001b[38;5;124;43m\"\u001b[39;49m\u001b[43m)\u001b[49m\u001b[43m)\u001b[49m\u001b[43m)\u001b[49m\u001b[38;5;241m.\u001b[39mclick() \n\u001b[0;32m     32\u001b[0m     \u001b[38;5;28mprint\u001b[39m(\u001b[38;5;124m\"\u001b[39m\u001b[38;5;124mElement found\u001b[39m\u001b[38;5;124m\"\u001b[39m)\n\u001b[0;32m     34\u001b[0m \u001b[38;5;28;01mexcept\u001b[39;00m NoSuchElementException:\n",
      "File \u001b[1;32m~\\AppData\\Local\\Programs\\Python\\Python310\\lib\\site-packages\\selenium\\webdriver\\support\\wait.py:95\u001b[0m, in \u001b[0;36mWebDriverWait.until\u001b[1;34m(self, method, message)\u001b[0m\n\u001b[0;32m     93\u001b[0m     \u001b[38;5;28;01mif\u001b[39;00m time\u001b[38;5;241m.\u001b[39mmonotonic() \u001b[38;5;241m>\u001b[39m end_time:\n\u001b[0;32m     94\u001b[0m         \u001b[38;5;28;01mbreak\u001b[39;00m\n\u001b[1;32m---> 95\u001b[0m \u001b[38;5;28;01mraise\u001b[39;00m TimeoutException(message, screen, stacktrace)\n",
      "\u001b[1;31mTimeoutException\u001b[0m: Message: \nStacktrace:\n\tGetHandleVerifier [0x00007FF78B8152A2+57122]\n\t(No symbol) [0x00007FF78B78EA92]\n\t(No symbol) [0x00007FF78B65E3AB]\n\t(No symbol) [0x00007FF78B697D3E]\n\t(No symbol) [0x00007FF78B697E2C]\n\t(No symbol) [0x00007FF78B6D0B67]\n\t(No symbol) [0x00007FF78B6B701F]\n\t(No symbol) [0x00007FF78B6CEB82]\n\t(No symbol) [0x00007FF78B6B6DB3]\n\t(No symbol) [0x00007FF78B68D2B1]\n\t(No symbol) [0x00007FF78B68E494]\n\tGetHandleVerifier [0x00007FF78BABEF82+2849794]\n\tGetHandleVerifier [0x00007FF78BB11D24+3189156]\n\tGetHandleVerifier [0x00007FF78BB0ACAF+3160367]\n\tGetHandleVerifier [0x00007FF78B8A6D06+653702]\n\t(No symbol) [0x00007FF78B79A208]\n\t(No symbol) [0x00007FF78B7962C4]\n\t(No symbol) [0x00007FF78B7963F6]\n\t(No symbol) [0x00007FF78B7867A3]\n\tBaseThreadInitThunk [0x00007FF9023F7614+20]\n\tRtlUserThreadStart [0x00007FF9041026A1+33]\n"
     ]
    }
   ],
   "source": [
    "url = 'https://www.glassdoor.sg/Job/united-states-data-scientist-jobs-SRCH_IL.0,13_IN1_KO14,28.htm'#'https://www.glassdoor.com/Job/united-states-data-scientist-jobs-SRCH_IL.0,13_IN1_KO14,28.htm'\n",
    "      #'https://www.glassdoor.sg/Job/united-states-data-scientist-jobs-SRCH_IL.0,13_IN1_KO14,28.htm'\n",
    "driver = webdriver.Chrome()\n",
    "driver.get(url)\n",
    "jobs = []\n",
    "\n",
    "num_jobs = 5\n",
    "\n",
    "#while len(jobs) < num_jobs:\n",
    "    #driver.find_element(By.CLASS_NAME,\"selected\").click()\n",
    "    #job_buttons = driver.find_element(By.CSS_SELECTOR,\"#MainCol > div:nth-child(1) > ul\")\n",
    "\n",
    "#pagenumbers = driver.find_elements(By.XPATH, \"/html/body/div[2]/div[2]/div/div/div/div[2]/section/article/div[2]/div/div[2]\")\n",
    "#print (type(pagenumbers))\n",
    "#print(pagenumbers)\n",
    "\n",
    "while True:\n",
    "    resultSet = driver.find_element(By.CSS_SELECTOR,\"#MainCol > div:nth-child(1) > ul\")\n",
    "    options = resultSet.find_elements(By.TAG_NAME,\"li\")\n",
    "    count = 0 \n",
    "    \n",
    "    for option in options:\n",
    "        count +=1\n",
    "        print(\"Count now \"+str(count))\n",
    "        \n",
    "        if count == 1:\n",
    "            print(option.text)\n",
    "            option.click()\n",
    "            \n",
    "            try:\n",
    "                WebDriverWait(driver, 20).until(EC.element_to_be_clickable((By.CSS_SELECTOR, \"#LoginModal > div > div > div > div.actionBarMt0.css-gss116.e1jtvglp0 > button\"))).click() \n",
    "                print(\"Element found\")\n",
    "            \n",
    "            except NoSuchElementException:\n",
    "                print(\"Element not found\")\n",
    "                pass\n",
    "                \n",
    "            else:\n",
    "                option.click()\n",
    "    driver.find_element(By.CSS_SELECTOR, \"#MainCol > div.tbl.fill.px.my.d-flex > div > div.pageContainer > button.nextButton.job-search-opoz2d.e13qs2072\").click()\n",
    "\n",
    "\n",
    "    \n",
    "\n",
    "print(\"Number of jobs \"+str(count))"
   ]
  },
  {
   "cell_type": "code",
   "execution_count": null,
   "id": "21aa0788-fe47-4393-af9f-c450cfa021da",
   "metadata": {},
   "outputs": [],
   "source": []
  }
 ],
 "metadata": {
  "kernelspec": {
   "display_name": "Python 3 (ipykernel)",
   "language": "python",
   "name": "python3"
  },
  "language_info": {
   "codemirror_mode": {
    "name": "ipython",
    "version": 3
   },
   "file_extension": ".py",
   "mimetype": "text/x-python",
   "name": "python",
   "nbconvert_exporter": "python",
   "pygments_lexer": "ipython3",
   "version": "3.10.11"
  }
 },
 "nbformat": 4,
 "nbformat_minor": 5
}
