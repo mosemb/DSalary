{
 "cells": [
  {
   "cell_type": "code",
   "execution_count": 1,
   "id": "5a859e5e-76b6-4925-a937-25a7157019a7",
   "metadata": {},
   "outputs": [],
   "source": [
    "import pandas as pd"
   ]
  },
  {
   "cell_type": "code",
   "execution_count": 2,
   "id": "3fe88b4e-079f-4e75-822c-348c7002a2a3",
   "metadata": {},
   "outputs": [],
   "source": [
    "df = pd.read_csv('DataScienceDf.csv')"
   ]
  },
  {
   "cell_type": "code",
   "execution_count": 3,
   "id": "aadbae9d-0915-4cba-80af-6ed1a1e0d20e",
   "metadata": {},
   "outputs": [
    {
     "data": {
      "text/html": [
       "<div>\n",
       "<style scoped>\n",
       "    .dataframe tbody tr th:only-of-type {\n",
       "        vertical-align: middle;\n",
       "    }\n",
       "\n",
       "    .dataframe tbody tr th {\n",
       "        vertical-align: top;\n",
       "    }\n",
       "\n",
       "    .dataframe thead th {\n",
       "        text-align: right;\n",
       "    }\n",
       "</style>\n",
       "<table border=\"1\" class=\"dataframe\">\n",
       "  <thead>\n",
       "    <tr style=\"text-align: right;\">\n",
       "      <th></th>\n",
       "      <th>Unnamed: 0</th>\n",
       "      <th>CompanyName</th>\n",
       "      <th>Location</th>\n",
       "      <th>Job_Title</th>\n",
       "      <th>SalaryEstimate</th>\n",
       "      <th>Job_Desc</th>\n",
       "      <th>NumberOfEmployees</th>\n",
       "      <th>FoundingYear</th>\n",
       "      <th>CompanyType</th>\n",
       "      <th>IndustryType</th>\n",
       "      <th>SectorType</th>\n",
       "      <th>RevenueType</th>\n",
       "      <th>Rating</th>\n",
       "      <th>SalaryExtract</th>\n",
       "      <th>SalaryExtractHourly</th>\n",
       "    </tr>\n",
       "  </thead>\n",
       "  <tbody>\n",
       "    <tr>\n",
       "      <th>0</th>\n",
       "      <td>0</td>\n",
       "      <td>NXP Semiconductors\\n4.1</td>\n",
       "      <td>Austin, TX</td>\n",
       "      <td>Entry Level Data Science - December 2023 and M...</td>\n",
       "      <td>NXP Semiconductors4.1 ★\\nEntry Level Data Scie...</td>\n",
       "      <td>Our business runs on Data, and having an accur...</td>\n",
       "      <td>10000+ Employees</td>\n",
       "      <td>2006</td>\n",
       "      <td>Company - Public</td>\n",
       "      <td>Electronics Manufacturing</td>\n",
       "      <td>Manufacturing</td>\n",
       "      <td>$5 to $10 billion (USD)</td>\n",
       "      <td>4.1</td>\n",
       "      <td>US$74K - US$125K</td>\n",
       "      <td>NaN</td>\n",
       "    </tr>\n",
       "    <tr>\n",
       "      <th>1</th>\n",
       "      <td>1</td>\n",
       "      <td>State of Virginia\\n3.6</td>\n",
       "      <td>Remote</td>\n",
       "      <td>Data Scientist</td>\n",
       "      <td>State of Virginia3.6 ★\\nData Scientist\\nRemote...</td>\n",
       "      <td>Job Duties/Responsibilities may include, but a...</td>\n",
       "      <td>10000+ Employees</td>\n",
       "      <td>1788</td>\n",
       "      <td>Government</td>\n",
       "      <td>Regional Agencies</td>\n",
       "      <td>Government &amp; Public Administration</td>\n",
       "      <td>$25 to $50 million (USD)</td>\n",
       "      <td>3.6</td>\n",
       "      <td>NaN</td>\n",
       "      <td>NaN</td>\n",
       "    </tr>\n",
       "    <tr>\n",
       "      <th>2</th>\n",
       "      <td>2</td>\n",
       "      <td>Matrix New World Engineering\\n4.0</td>\n",
       "      <td>Remote</td>\n",
       "      <td>Data Scientist</td>\n",
       "      <td>Matrix New World Engineering4 ★\\nData Scientis...</td>\n",
       "      <td>Are you passionate about finding insights from...</td>\n",
       "      <td>51 to 200 Employees</td>\n",
       "      <td>1990</td>\n",
       "      <td>Company - Private</td>\n",
       "      <td>Architectural &amp; Engineering Services</td>\n",
       "      <td>Construction, Repair &amp; Maintenance Services</td>\n",
       "      <td>$25 to $50 million (USD)</td>\n",
       "      <td>4.0</td>\n",
       "      <td>US$90K - US$120K</td>\n",
       "      <td>NaN</td>\n",
       "    </tr>\n",
       "    <tr>\n",
       "      <th>3</th>\n",
       "      <td>3</td>\n",
       "      <td>Context Labs</td>\n",
       "      <td>Cambridge, MA</td>\n",
       "      <td>Data Scientist</td>\n",
       "      <td>Context Labs\\nData Scientist\\nCambridge, MA\\nU...</td>\n",
       "      <td>Context Labs is seeking a Data Scientist to su...</td>\n",
       "      <td>Unknown</td>\n",
       "      <td>Company - Public</td>\n",
       "      <td>Software Development</td>\n",
       "      <td>Information Technology</td>\n",
       "      <td>Unknown / Non-Applicable</td>\n",
       "      <td>-2</td>\n",
       "      <td>-2.0</td>\n",
       "      <td>US$105K - US$146K</td>\n",
       "      <td>NaN</td>\n",
       "    </tr>\n",
       "    <tr>\n",
       "      <th>4</th>\n",
       "      <td>4</td>\n",
       "      <td>Unknown</td>\n",
       "      <td>Cambridge, MA</td>\n",
       "      <td>Data Scientist</td>\n",
       "      <td>CORMAC3.8 ★\\nJr. Data Scientist\\nRemote\\nEasy ...</td>\n",
       "      <td>Context Labs is seeking a Data Scientist to su...</td>\n",
       "      <td>Unknown</td>\n",
       "      <td>Company - Public</td>\n",
       "      <td>Software Development</td>\n",
       "      <td>Information Technology</td>\n",
       "      <td>Unknown / Non-Applicable</td>\n",
       "      <td>-2</td>\n",
       "      <td>-2.0</td>\n",
       "      <td>NaN</td>\n",
       "      <td>NaN</td>\n",
       "    </tr>\n",
       "  </tbody>\n",
       "</table>\n",
       "</div>"
      ],
      "text/plain": [
       "   Unnamed: 0                        CompanyName       Location  \\\n",
       "0           0            NXP Semiconductors\\n4.1     Austin, TX   \n",
       "1           1             State of Virginia\\n3.6         Remote   \n",
       "2           2  Matrix New World Engineering\\n4.0         Remote   \n",
       "3           3                       Context Labs  Cambridge, MA   \n",
       "4           4                            Unknown  Cambridge, MA   \n",
       "\n",
       "                                           Job_Title  \\\n",
       "0  Entry Level Data Science - December 2023 and M...   \n",
       "1                                     Data Scientist   \n",
       "2                                     Data Scientist   \n",
       "3                                     Data Scientist   \n",
       "4                                     Data Scientist   \n",
       "\n",
       "                                      SalaryEstimate  \\\n",
       "0  NXP Semiconductors4.1 ★\\nEntry Level Data Scie...   \n",
       "1  State of Virginia3.6 ★\\nData Scientist\\nRemote...   \n",
       "2  Matrix New World Engineering4 ★\\nData Scientis...   \n",
       "3  Context Labs\\nData Scientist\\nCambridge, MA\\nU...   \n",
       "4  CORMAC3.8 ★\\nJr. Data Scientist\\nRemote\\nEasy ...   \n",
       "\n",
       "                                            Job_Desc    NumberOfEmployees  \\\n",
       "0  Our business runs on Data, and having an accur...     10000+ Employees   \n",
       "1  Job Duties/Responsibilities may include, but a...     10000+ Employees   \n",
       "2  Are you passionate about finding insights from...  51 to 200 Employees   \n",
       "3  Context Labs is seeking a Data Scientist to su...              Unknown   \n",
       "4  Context Labs is seeking a Data Scientist to su...              Unknown   \n",
       "\n",
       "       FoundingYear           CompanyType  \\\n",
       "0              2006      Company - Public   \n",
       "1              1788            Government   \n",
       "2              1990     Company - Private   \n",
       "3  Company - Public  Software Development   \n",
       "4  Company - Public  Software Development   \n",
       "\n",
       "                           IndustryType  \\\n",
       "0             Electronics Manufacturing   \n",
       "1                     Regional Agencies   \n",
       "2  Architectural & Engineering Services   \n",
       "3                Information Technology   \n",
       "4                Information Technology   \n",
       "\n",
       "                                    SectorType               RevenueType  \\\n",
       "0                                Manufacturing   $5 to $10 billion (USD)   \n",
       "1           Government & Public Administration  $25 to $50 million (USD)   \n",
       "2  Construction, Repair & Maintenance Services  $25 to $50 million (USD)   \n",
       "3                     Unknown / Non-Applicable                        -2   \n",
       "4                     Unknown / Non-Applicable                        -2   \n",
       "\n",
       "   Rating      SalaryExtract SalaryExtractHourly  \n",
       "0     4.1   US$74K - US$125K                 NaN  \n",
       "1     3.6                NaN                 NaN  \n",
       "2     4.0   US$90K - US$120K                 NaN  \n",
       "3    -2.0  US$105K - US$146K                 NaN  \n",
       "4    -2.0                NaN                 NaN  "
      ]
     },
     "execution_count": 3,
     "metadata": {},
     "output_type": "execute_result"
    }
   ],
   "source": [
    "df.head(5)"
   ]
  },
  {
   "cell_type": "code",
   "execution_count": 4,
   "id": "d3241c45-9540-4a63-8fa9-3376b20baed0",
   "metadata": {},
   "outputs": [],
   "source": [
    "df.drop(columns=df.columns[0], axis=1, inplace=True)"
   ]
  },
  {
   "cell_type": "code",
   "execution_count": 5,
   "id": "9f036a8d-7046-4698-8b47-83756537c503",
   "metadata": {},
   "outputs": [
    {
     "data": {
      "text/html": [
       "<div>\n",
       "<style scoped>\n",
       "    .dataframe tbody tr th:only-of-type {\n",
       "        vertical-align: middle;\n",
       "    }\n",
       "\n",
       "    .dataframe tbody tr th {\n",
       "        vertical-align: top;\n",
       "    }\n",
       "\n",
       "    .dataframe thead th {\n",
       "        text-align: right;\n",
       "    }\n",
       "</style>\n",
       "<table border=\"1\" class=\"dataframe\">\n",
       "  <thead>\n",
       "    <tr style=\"text-align: right;\">\n",
       "      <th></th>\n",
       "      <th>CompanyName</th>\n",
       "      <th>Location</th>\n",
       "      <th>Job_Title</th>\n",
       "      <th>SalaryEstimate</th>\n",
       "      <th>Job_Desc</th>\n",
       "      <th>NumberOfEmployees</th>\n",
       "      <th>FoundingYear</th>\n",
       "      <th>CompanyType</th>\n",
       "      <th>IndustryType</th>\n",
       "      <th>SectorType</th>\n",
       "      <th>RevenueType</th>\n",
       "      <th>Rating</th>\n",
       "      <th>SalaryExtract</th>\n",
       "      <th>SalaryExtractHourly</th>\n",
       "    </tr>\n",
       "  </thead>\n",
       "  <tbody>\n",
       "    <tr>\n",
       "      <th>0</th>\n",
       "      <td>NXP Semiconductors\\n4.1</td>\n",
       "      <td>Austin, TX</td>\n",
       "      <td>Entry Level Data Science - December 2023 and M...</td>\n",
       "      <td>NXP Semiconductors4.1 ★\\nEntry Level Data Scie...</td>\n",
       "      <td>Our business runs on Data, and having an accur...</td>\n",
       "      <td>10000+ Employees</td>\n",
       "      <td>2006</td>\n",
       "      <td>Company - Public</td>\n",
       "      <td>Electronics Manufacturing</td>\n",
       "      <td>Manufacturing</td>\n",
       "      <td>$5 to $10 billion (USD)</td>\n",
       "      <td>4.1</td>\n",
       "      <td>US$74K - US$125K</td>\n",
       "      <td>NaN</td>\n",
       "    </tr>\n",
       "    <tr>\n",
       "      <th>1</th>\n",
       "      <td>State of Virginia\\n3.6</td>\n",
       "      <td>Remote</td>\n",
       "      <td>Data Scientist</td>\n",
       "      <td>State of Virginia3.6 ★\\nData Scientist\\nRemote...</td>\n",
       "      <td>Job Duties/Responsibilities may include, but a...</td>\n",
       "      <td>10000+ Employees</td>\n",
       "      <td>1788</td>\n",
       "      <td>Government</td>\n",
       "      <td>Regional Agencies</td>\n",
       "      <td>Government &amp; Public Administration</td>\n",
       "      <td>$25 to $50 million (USD)</td>\n",
       "      <td>3.6</td>\n",
       "      <td>NaN</td>\n",
       "      <td>NaN</td>\n",
       "    </tr>\n",
       "    <tr>\n",
       "      <th>2</th>\n",
       "      <td>Matrix New World Engineering\\n4.0</td>\n",
       "      <td>Remote</td>\n",
       "      <td>Data Scientist</td>\n",
       "      <td>Matrix New World Engineering4 ★\\nData Scientis...</td>\n",
       "      <td>Are you passionate about finding insights from...</td>\n",
       "      <td>51 to 200 Employees</td>\n",
       "      <td>1990</td>\n",
       "      <td>Company - Private</td>\n",
       "      <td>Architectural &amp; Engineering Services</td>\n",
       "      <td>Construction, Repair &amp; Maintenance Services</td>\n",
       "      <td>$25 to $50 million (USD)</td>\n",
       "      <td>4.0</td>\n",
       "      <td>US$90K - US$120K</td>\n",
       "      <td>NaN</td>\n",
       "    </tr>\n",
       "    <tr>\n",
       "      <th>3</th>\n",
       "      <td>Context Labs</td>\n",
       "      <td>Cambridge, MA</td>\n",
       "      <td>Data Scientist</td>\n",
       "      <td>Context Labs\\nData Scientist\\nCambridge, MA\\nU...</td>\n",
       "      <td>Context Labs is seeking a Data Scientist to su...</td>\n",
       "      <td>Unknown</td>\n",
       "      <td>Company - Public</td>\n",
       "      <td>Software Development</td>\n",
       "      <td>Information Technology</td>\n",
       "      <td>Unknown / Non-Applicable</td>\n",
       "      <td>-2</td>\n",
       "      <td>-2.0</td>\n",
       "      <td>US$105K - US$146K</td>\n",
       "      <td>NaN</td>\n",
       "    </tr>\n",
       "    <tr>\n",
       "      <th>4</th>\n",
       "      <td>Unknown</td>\n",
       "      <td>Cambridge, MA</td>\n",
       "      <td>Data Scientist</td>\n",
       "      <td>CORMAC3.8 ★\\nJr. Data Scientist\\nRemote\\nEasy ...</td>\n",
       "      <td>Context Labs is seeking a Data Scientist to su...</td>\n",
       "      <td>Unknown</td>\n",
       "      <td>Company - Public</td>\n",
       "      <td>Software Development</td>\n",
       "      <td>Information Technology</td>\n",
       "      <td>Unknown / Non-Applicable</td>\n",
       "      <td>-2</td>\n",
       "      <td>-2.0</td>\n",
       "      <td>NaN</td>\n",
       "      <td>NaN</td>\n",
       "    </tr>\n",
       "  </tbody>\n",
       "</table>\n",
       "</div>"
      ],
      "text/plain": [
       "                         CompanyName       Location  \\\n",
       "0            NXP Semiconductors\\n4.1     Austin, TX   \n",
       "1             State of Virginia\\n3.6         Remote   \n",
       "2  Matrix New World Engineering\\n4.0         Remote   \n",
       "3                       Context Labs  Cambridge, MA   \n",
       "4                            Unknown  Cambridge, MA   \n",
       "\n",
       "                                           Job_Title  \\\n",
       "0  Entry Level Data Science - December 2023 and M...   \n",
       "1                                     Data Scientist   \n",
       "2                                     Data Scientist   \n",
       "3                                     Data Scientist   \n",
       "4                                     Data Scientist   \n",
       "\n",
       "                                      SalaryEstimate  \\\n",
       "0  NXP Semiconductors4.1 ★\\nEntry Level Data Scie...   \n",
       "1  State of Virginia3.6 ★\\nData Scientist\\nRemote...   \n",
       "2  Matrix New World Engineering4 ★\\nData Scientis...   \n",
       "3  Context Labs\\nData Scientist\\nCambridge, MA\\nU...   \n",
       "4  CORMAC3.8 ★\\nJr. Data Scientist\\nRemote\\nEasy ...   \n",
       "\n",
       "                                            Job_Desc    NumberOfEmployees  \\\n",
       "0  Our business runs on Data, and having an accur...     10000+ Employees   \n",
       "1  Job Duties/Responsibilities may include, but a...     10000+ Employees   \n",
       "2  Are you passionate about finding insights from...  51 to 200 Employees   \n",
       "3  Context Labs is seeking a Data Scientist to su...              Unknown   \n",
       "4  Context Labs is seeking a Data Scientist to su...              Unknown   \n",
       "\n",
       "       FoundingYear           CompanyType  \\\n",
       "0              2006      Company - Public   \n",
       "1              1788            Government   \n",
       "2              1990     Company - Private   \n",
       "3  Company - Public  Software Development   \n",
       "4  Company - Public  Software Development   \n",
       "\n",
       "                           IndustryType  \\\n",
       "0             Electronics Manufacturing   \n",
       "1                     Regional Agencies   \n",
       "2  Architectural & Engineering Services   \n",
       "3                Information Technology   \n",
       "4                Information Technology   \n",
       "\n",
       "                                    SectorType               RevenueType  \\\n",
       "0                                Manufacturing   $5 to $10 billion (USD)   \n",
       "1           Government & Public Administration  $25 to $50 million (USD)   \n",
       "2  Construction, Repair & Maintenance Services  $25 to $50 million (USD)   \n",
       "3                     Unknown / Non-Applicable                        -2   \n",
       "4                     Unknown / Non-Applicable                        -2   \n",
       "\n",
       "   Rating      SalaryExtract SalaryExtractHourly  \n",
       "0     4.1   US$74K - US$125K                 NaN  \n",
       "1     3.6                NaN                 NaN  \n",
       "2     4.0   US$90K - US$120K                 NaN  \n",
       "3    -2.0  US$105K - US$146K                 NaN  \n",
       "4    -2.0                NaN                 NaN  "
      ]
     },
     "execution_count": 5,
     "metadata": {},
     "output_type": "execute_result"
    }
   ],
   "source": [
    "df.head()"
   ]
  },
  {
   "cell_type": "code",
   "execution_count": 6,
   "id": "79d75dad-9730-4c3a-b8fb-21f8173207f4",
   "metadata": {},
   "outputs": [],
   "source": [
    "df.SalaryExtract=df.SalaryExtract.str.replace('K','',regex=True)"
   ]
  },
  {
   "cell_type": "code",
   "execution_count": 7,
   "id": "3a88dc6a-2173-4f9e-be43-5e38a0e87c01",
   "metadata": {},
   "outputs": [],
   "source": [
    "df.SalaryExtract=df.SalaryExtract.str.replace('US','',regex=True)"
   ]
  },
  {
   "cell_type": "code",
   "execution_count": 8,
   "id": "4273daca-d39e-4f81-af3a-19e125b4ddd8",
   "metadata": {},
   "outputs": [],
   "source": [
    "df.SalaryExtract=df.SalaryExtract.str.replace('$','',regex=True)"
   ]
  },
  {
   "cell_type": "code",
   "execution_count": 9,
   "id": "ab7b6922-0d1d-443f-a6fb-f6727adacda7",
   "metadata": {},
   "outputs": [
    {
     "data": {
      "text/plain": [
       "0           $74 - $125\n",
       "1                  NaN\n",
       "2           $90 - $120\n",
       "3          $105 - $146\n",
       "4                  NaN\n",
       "            ...       \n",
       "894        $112 - $225\n",
       "895         $80 - $120\n",
       "896         $90 - $140\n",
       "897    $53.62 - $64.58\n",
       "898                NaN\n",
       "Name: SalaryExtract, Length: 899, dtype: object"
      ]
     },
     "execution_count": 9,
     "metadata": {},
     "output_type": "execute_result"
    }
   ],
   "source": [
    "df.SalaryExtract"
   ]
  },
  {
   "cell_type": "code",
   "execution_count": 10,
   "id": "5bd1be43-8a8b-41c0-9248-2bb051750a7a",
   "metadata": {},
   "outputs": [
    {
     "data": {
      "text/plain": [
       "True"
      ]
     },
     "execution_count": 10,
     "metadata": {},
     "output_type": "execute_result"
    }
   ],
   "source": [
    " df['SalaryExtract'].str.contains('$').any()"
   ]
  },
  {
   "cell_type": "code",
   "execution_count": 11,
   "id": "91994f28-2ac0-42d2-8ac0-cc1c63a64e1a",
   "metadata": {},
   "outputs": [],
   "source": [
    "df['SalaryExtract'] = df['SalaryExtract'].str.replace('$', '')"
   ]
  },
  {
   "cell_type": "code",
   "execution_count": 12,
   "id": "fbc0beb9-6709-47ea-9672-4e29d49a964f",
   "metadata": {},
   "outputs": [
    {
     "data": {
      "text/plain": [
       "0           74 - 125\n",
       "1                NaN\n",
       "2           90 - 120\n",
       "3          105 - 146\n",
       "4                NaN\n",
       "           ...      \n",
       "894        112 - 225\n",
       "895         80 - 120\n",
       "896         90 - 140\n",
       "897    53.62 - 64.58\n",
       "898              NaN\n",
       "Name: SalaryExtract, Length: 899, dtype: object"
      ]
     },
     "execution_count": 12,
     "metadata": {},
     "output_type": "execute_result"
    }
   ],
   "source": [
    "df['SalaryExtract']"
   ]
  },
  {
   "cell_type": "code",
   "execution_count": 13,
   "id": "8ef0f039-86f0-4972-bebc-393e6a6079bf",
   "metadata": {},
   "outputs": [],
   "source": [
    "df['SalaryExtract'].dropna(inplace=True)"
   ]
  },
  {
   "cell_type": "code",
   "execution_count": 14,
   "id": "56939ffc-1c46-4618-bb76-366d411dbc0a",
   "metadata": {},
   "outputs": [
    {
     "data": {
      "text/plain": [
       "659"
      ]
     },
     "execution_count": 14,
     "metadata": {},
     "output_type": "execute_result"
    }
   ],
   "source": [
    "df['SalaryExtract'].value_counts().sum()"
   ]
  },
  {
   "cell_type": "code",
   "execution_count": 15,
   "id": "6efa3489-b484-4d99-9f2a-3d0a43843493",
   "metadata": {},
   "outputs": [
    {
     "data": {
      "text/plain": [
       "SalaryExtract\n",
       "74 - 125         30\n",
       "90 - 120         30\n",
       "53.62 - 64.58    30\n",
       "90 - 140         30\n",
       "80 - 120         30\n",
       "112 - 225        30\n",
       "70 - 105         30\n",
       "100 - 120        30\n",
       "71 - 133         30\n",
       "50.00 - 55.00    30\n",
       "132              30\n",
       "93 - 132         30\n",
       "48 - 78          30\n",
       "80 - 110         30\n",
       "92 - 143         30\n",
       "112 - 135        30\n",
       "102 - 144        30\n",
       "60 - 140         30\n",
       "83 - 114         30\n",
       "60.00 - 70.00    30\n",
       "105 - 146        30\n",
       "90 - 133         29\n",
       "Name: count, dtype: int64"
      ]
     },
     "execution_count": 15,
     "metadata": {},
     "output_type": "execute_result"
    }
   ],
   "source": [
    "df['SalaryExtract'].value_counts()"
   ]
  },
  {
   "cell_type": "code",
   "execution_count": 16,
   "id": "d53d3461-9d20-4007-934e-6fca133b2465",
   "metadata": {},
   "outputs": [],
   "source": [
    "def undersplit(x):\n",
    "    x = str(x)\n",
    "    if \"-\" in x:\n",
    "        return x.split(\"-\", 1)\n",
    "    else:\n",
    "        return [x, 0]"
   ]
  },
  {
   "cell_type": "code",
   "execution_count": 17,
   "id": "cc6875ef-a120-44e6-b855-b53569f3d859",
   "metadata": {},
   "outputs": [],
   "source": [
    "df[[\"minSalary\",\"maxSalary\"]] = [ undersplit(i) for i in df['SalaryExtract']]"
   ]
  },
  {
   "cell_type": "code",
   "execution_count": 18,
   "id": "ab584f98-d4ea-47b4-ab06-8a6a4265a391",
   "metadata": {},
   "outputs": [
    {
     "data": {
      "text/plain": [
       "0           74 - 125\n",
       "1                NaN\n",
       "2           90 - 120\n",
       "3          105 - 146\n",
       "4                NaN\n",
       "           ...      \n",
       "894        112 - 225\n",
       "895         80 - 120\n",
       "896         90 - 140\n",
       "897    53.62 - 64.58\n",
       "898              NaN\n",
       "Name: SalaryExtract, Length: 899, dtype: object"
      ]
     },
     "execution_count": 18,
     "metadata": {},
     "output_type": "execute_result"
    }
   ],
   "source": [
    "df['SalaryExtract']"
   ]
  },
  {
   "cell_type": "code",
   "execution_count": 20,
   "id": "43346a06-2fe6-44cd-8394-7c70b69b529d",
   "metadata": {},
   "outputs": [
    {
     "data": {
      "text/html": [
       "<div>\n",
       "<style scoped>\n",
       "    .dataframe tbody tr th:only-of-type {\n",
       "        vertical-align: middle;\n",
       "    }\n",
       "\n",
       "    .dataframe tbody tr th {\n",
       "        vertical-align: top;\n",
       "    }\n",
       "\n",
       "    .dataframe thead th {\n",
       "        text-align: right;\n",
       "    }\n",
       "</style>\n",
       "<table border=\"1\" class=\"dataframe\">\n",
       "  <thead>\n",
       "    <tr style=\"text-align: right;\">\n",
       "      <th></th>\n",
       "      <th>minSalary</th>\n",
       "      <th>maxSalary</th>\n",
       "    </tr>\n",
       "  </thead>\n",
       "  <tbody>\n",
       "    <tr>\n",
       "      <th>0</th>\n",
       "      <td>74</td>\n",
       "      <td>125</td>\n",
       "    </tr>\n",
       "    <tr>\n",
       "      <th>1</th>\n",
       "      <td>nan</td>\n",
       "      <td>0</td>\n",
       "    </tr>\n",
       "    <tr>\n",
       "      <th>2</th>\n",
       "      <td>90</td>\n",
       "      <td>120</td>\n",
       "    </tr>\n",
       "    <tr>\n",
       "      <th>3</th>\n",
       "      <td>105</td>\n",
       "      <td>146</td>\n",
       "    </tr>\n",
       "    <tr>\n",
       "      <th>4</th>\n",
       "      <td>nan</td>\n",
       "      <td>0</td>\n",
       "    </tr>\n",
       "    <tr>\n",
       "      <th>5</th>\n",
       "      <td>60.00</td>\n",
       "      <td>70.00</td>\n",
       "    </tr>\n",
       "    <tr>\n",
       "      <th>6</th>\n",
       "      <td>nan</td>\n",
       "      <td>0</td>\n",
       "    </tr>\n",
       "    <tr>\n",
       "      <th>7</th>\n",
       "      <td>nan</td>\n",
       "      <td>0</td>\n",
       "    </tr>\n",
       "    <tr>\n",
       "      <th>8</th>\n",
       "      <td>83</td>\n",
       "      <td>114</td>\n",
       "    </tr>\n",
       "    <tr>\n",
       "      <th>9</th>\n",
       "      <td>60</td>\n",
       "      <td>140</td>\n",
       "    </tr>\n",
       "  </tbody>\n",
       "</table>\n",
       "</div>"
      ],
      "text/plain": [
       "  minSalary maxSalary\n",
       "0       74        125\n",
       "1       nan         0\n",
       "2       90        120\n",
       "3      105        146\n",
       "4       nan         0\n",
       "5    60.00      70.00\n",
       "6       nan         0\n",
       "7       nan         0\n",
       "8       83        114\n",
       "9       60        140"
      ]
     },
     "execution_count": 20,
     "metadata": {},
     "output_type": "execute_result"
    }
   ],
   "source": [
    "df[[\"minSalary\",\"maxSalary\"]].head(10)\n",
    "#.str.split(r'\\.', 1, expand=True"
   ]
  },
  {
   "cell_type": "code",
   "execution_count": 22,
   "id": "11640ed4-be3f-43e7-80e0-3399dea2ca0e",
   "metadata": {},
   "outputs": [
    {
     "data": {
      "text/plain": [
       "Index(['CompanyName', 'Location', 'Job_Title', 'SalaryEstimate', 'Job_Desc',\n",
       "       'NumberOfEmployees', 'FoundingYear', 'CompanyType', 'IndustryType',\n",
       "       'SectorType', 'RevenueType', 'Rating', 'SalaryExtract',\n",
       "       'SalaryExtractHourly', 'minSalary', 'maxSalary'],\n",
       "      dtype='object')"
      ]
     },
     "execution_count": 22,
     "metadata": {},
     "output_type": "execute_result"
    }
   ],
   "source": [
    "df.columns"
   ]
  },
  {
   "cell_type": "code",
   "execution_count": 24,
   "id": "7345e83f-c505-49e7-93be-e7df8a3c10b9",
   "metadata": {},
   "outputs": [],
   "source": [
    "df.drop([\"SalaryExtract\"],inplace=True, axis=1)"
   ]
  },
  {
   "cell_type": "code",
   "execution_count": 22,
   "id": "378ef857-0632-4b80-b834-4737aa9281a2",
   "metadata": {},
   "outputs": [],
   "source": [
    "df.drop(['SalaryExtractHourly'], axis=1,inplace = True)"
   ]
  },
  {
   "cell_type": "code",
   "execution_count": 23,
   "id": "739d7432-db16-4723-b481-253dd17ec84d",
   "metadata": {},
   "outputs": [],
   "source": [
    "df.drop(['SalaryExtract'], axis=1,inplace = True)"
   ]
  },
  {
   "cell_type": "code",
   "execution_count": 24,
   "id": "6e3caf54-3bbb-45ec-a1ab-39037d88e1cd",
   "metadata": {},
   "outputs": [
    {
     "data": {
      "text/plain": [
       "Index(['CompanyName', 'Location', 'Job_Title', 'SalaryEstimate', 'Job_Desc',\n",
       "       'NumberOfEmployees', 'FoundingYear', 'CompanyType', 'IndustryType',\n",
       "       'SectorType', 'RevenueType', 'Rating', 'minSalary', 'maxSalary'],\n",
       "      dtype='object')"
      ]
     },
     "execution_count": 24,
     "metadata": {},
     "output_type": "execute_result"
    }
   ],
   "source": [
    "df.columns"
   ]
  },
  {
   "cell_type": "code",
   "execution_count": 25,
   "id": "96d4cb45-4422-4054-b3d1-133bc0c5bc84",
   "metadata": {},
   "outputs": [],
   "source": [
    "#df.dropna(subset=['minSalary'], inplace=True)"
   ]
  },
  {
   "cell_type": "code",
   "execution_count": 52,
   "id": "b899ca04-6eaf-4ca7-993b-68c849fb2aba",
   "metadata": {},
   "outputs": [],
   "source": [
    "#df"
   ]
  },
  {
   "cell_type": "code",
   "execution_count": null,
   "id": "3e6971fe-97d6-408e-99e9-7639fbe8d38a",
   "metadata": {},
   "outputs": [],
   "source": []
  }
 ],
 "metadata": {
  "kernelspec": {
   "display_name": "Python 3 (ipykernel)",
   "language": "python",
   "name": "python3"
  },
  "language_info": {
   "codemirror_mode": {
    "name": "ipython",
    "version": 3
   },
   "file_extension": ".py",
   "mimetype": "text/x-python",
   "name": "python",
   "nbconvert_exporter": "python",
   "pygments_lexer": "ipython3",
   "version": "3.10.11"
  }
 },
 "nbformat": 4,
 "nbformat_minor": 5
}
